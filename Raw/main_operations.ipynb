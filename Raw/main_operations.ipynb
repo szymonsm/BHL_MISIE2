{
 "cells": [
  {
   "cell_type": "code",
   "execution_count": 18,
   "outputs": [],
   "source": [
    "import pandas as pd, numpy as np, seaborn as sns"
   ],
   "metadata": {
    "collapsed": false
   }
  },
  {
   "cell_type": "code",
   "execution_count": 19,
   "outputs": [],
   "source": [
    "df_small = pd.read_csv(\"../data/orders factory.csv\")"
   ],
   "metadata": {
    "collapsed": false
   }
  },
  {
   "cell_type": "code",
   "execution_count": 23,
   "outputs": [
    {
     "name": "stdout",
     "output_type": "stream",
     "text": [
      "<class 'pandas.core.frame.DataFrame'>\n",
      "RangeIndex: 1272973 entries, 0 to 1272972\n",
      "Data columns (total 7 columns):\n",
      " #   Column   Non-Null Count    Dtype         \n",
      "---  ------   --------------    -----         \n",
      " 0   order    1272973 non-null  int64         \n",
      " 1   costum   1272969 non-null  float64       \n",
      " 2   collect  1272973 non-null  datetime64[ns]\n",
      " 3   prod     1272973 non-null  object        \n",
      " 4   barcode  1245734 non-null  object        \n",
      " 5   weight   1272973 non-null  float64       \n",
      " 6   pacs     1272973 non-null  int64         \n",
      "dtypes: datetime64[ns](1), float64(2), int64(2), object(2)\n",
      "memory usage: 68.0+ MB\n"
     ]
    }
   ],
   "source": [
    "df_small.collect = pd.to_datetime(df_small.collect)\n",
    "df_small.info()"
   ],
   "metadata": {
    "collapsed": false
   }
  },
  {
   "cell_type": "code",
   "execution_count": 24,
   "outputs": [
    {
     "data": {
      "text/plain": "<pandas.core.groupby.generic.DataFrameGroupBy object at 0x000001F3B90DBD90>"
     },
     "execution_count": 24,
     "metadata": {},
     "output_type": "execute_result"
    }
   ],
   "source": [
    "# Group the DataFrame by quarters using pd.Grouper\n",
    "groups = df_small.groupby(pd.Grouper(key='collect', freq='Q'))\n",
    "\n",
    "groups"
   ],
   "metadata": {
    "collapsed": false
   }
  },
  {
   "cell_type": "code",
   "execution_count": 31,
   "outputs": [],
   "source": [
    "dfs = []\n",
    "for name, group in groups:\n",
    "    dfs.append(pd.DataFrame(group))\n",
    "Q1df = dfs[0]\n",
    "Q2df = dfs[1]\n",
    "Q3df = dfs[2]\n",
    "Q4df = dfs[3]"
   ],
   "metadata": {
    "collapsed": false
   }
  },
  {
   "cell_type": "code",
   "execution_count": 102,
   "outputs": [],
   "source": [
    "df_small = Q4df"
   ],
   "metadata": {
    "collapsed": false
   }
  },
  {
   "cell_type": "code",
   "execution_count": 103,
   "outputs": [],
   "source": [
    "df_grouped = df_small.groupby('order')"
   ],
   "metadata": {
    "collapsed": false
   }
  },
  {
   "cell_type": "code",
   "execution_count": 109,
   "outputs": [],
   "source": [
    "df_prod_per_order = df_grouped['prod'].unique().apply(pd.Series.value_counts)"
   ],
   "metadata": {
    "collapsed": false
   }
  },
  {
   "cell_type": "code",
   "execution_count": 110,
   "outputs": [
    {
     "data": {
      "text/plain": "        331l  64162  16162S  12162CB  5005-7  50099  50500  8001  132082CP  \\\norder                                                                        \n25483    1.0    1.0     1.0      1.0     1.0    NaN    NaN   NaN       NaN   \n25492    NaN    NaN     NaN      NaN     NaN    1.0    1.0   1.0       1.0   \n25521    NaN    NaN     NaN      NaN     NaN    NaN    NaN   NaN       NaN   \n25522    NaN    NaN     NaN      1.0     NaN    NaN    NaN   NaN       NaN   \n25523    NaN    NaN     NaN      NaN     NaN    NaN    NaN   NaN       NaN   \n...      ...    ...     ...      ...     ...    ...    ...   ...       ...   \n104593   NaN    NaN     NaN      NaN     NaN    NaN    NaN   NaN       NaN   \n104595   NaN    NaN     NaN      NaN     NaN    NaN    NaN   NaN       NaN   \n104597   1.0    1.0     1.0      NaN     NaN    NaN    1.0   NaN       NaN   \n104598   NaN    NaN     NaN      NaN     NaN    NaN    NaN   NaN       NaN   \n104599   NaN    1.0     NaN      NaN     NaN    NaN    NaN   NaN       NaN   \n\n        37170  ...  18162crf  11451GC  152082SP  17162CANG  18162CAF  336XXL  \\\norder          ...                                                             \n25483     NaN  ...       NaN      NaN       NaN        NaN       NaN     NaN   \n25492     1.0  ...       NaN      NaN       NaN        NaN       NaN     NaN   \n25521     NaN  ...       NaN      NaN       NaN        NaN       NaN     NaN   \n25522     NaN  ...       NaN      NaN       NaN        NaN       NaN     NaN   \n25523     NaN  ...       NaN      NaN       NaN        NaN       NaN     NaN   \n...       ...  ...       ...      ...       ...        ...       ...     ...   \n104593    NaN  ...       NaN      NaN       NaN        NaN       NaN     NaN   \n104595    NaN  ...       NaN      NaN       NaN        NaN       NaN     NaN   \n104597    NaN  ...       1.0      1.0       1.0        1.0       1.0     NaN   \n104598    NaN  ...       NaN      NaN       NaN        NaN       NaN     1.0   \n104599    NaN  ...       NaN      NaN       NaN        NaN       NaN     NaN   \n\n        51005  63026  88038  88045  \norder                               \n25483     NaN    NaN    NaN    NaN  \n25492     NaN    NaN    NaN    NaN  \n25521     NaN    NaN    NaN    NaN  \n25522     NaN    NaN    NaN    NaN  \n25523     NaN    NaN    NaN    NaN  \n...       ...    ...    ...    ...  \n104593    NaN    NaN    NaN    NaN  \n104595    NaN    NaN    NaN    NaN  \n104597    NaN    NaN    NaN    NaN  \n104598    NaN    NaN    NaN    NaN  \n104599    1.0    1.0    1.0    1.0  \n\n[4079 rows x 550 columns]",
      "text/html": "<div>\n<style scoped>\n    .dataframe tbody tr th:only-of-type {\n        vertical-align: middle;\n    }\n\n    .dataframe tbody tr th {\n        vertical-align: top;\n    }\n\n    .dataframe thead th {\n        text-align: right;\n    }\n</style>\n<table border=\"1\" class=\"dataframe\">\n  <thead>\n    <tr style=\"text-align: right;\">\n      <th></th>\n      <th>331l</th>\n      <th>64162</th>\n      <th>16162S</th>\n      <th>12162CB</th>\n      <th>5005-7</th>\n      <th>50099</th>\n      <th>50500</th>\n      <th>8001</th>\n      <th>132082CP</th>\n      <th>37170</th>\n      <th>...</th>\n      <th>18162crf</th>\n      <th>11451GC</th>\n      <th>152082SP</th>\n      <th>17162CANG</th>\n      <th>18162CAF</th>\n      <th>336XXL</th>\n      <th>51005</th>\n      <th>63026</th>\n      <th>88038</th>\n      <th>88045</th>\n    </tr>\n    <tr>\n      <th>order</th>\n      <th></th>\n      <th></th>\n      <th></th>\n      <th></th>\n      <th></th>\n      <th></th>\n      <th></th>\n      <th></th>\n      <th></th>\n      <th></th>\n      <th></th>\n      <th></th>\n      <th></th>\n      <th></th>\n      <th></th>\n      <th></th>\n      <th></th>\n      <th></th>\n      <th></th>\n      <th></th>\n      <th></th>\n    </tr>\n  </thead>\n  <tbody>\n    <tr>\n      <th>25483</th>\n      <td>1.0</td>\n      <td>1.0</td>\n      <td>1.0</td>\n      <td>1.0</td>\n      <td>1.0</td>\n      <td>NaN</td>\n      <td>NaN</td>\n      <td>NaN</td>\n      <td>NaN</td>\n      <td>NaN</td>\n      <td>...</td>\n      <td>NaN</td>\n      <td>NaN</td>\n      <td>NaN</td>\n      <td>NaN</td>\n      <td>NaN</td>\n      <td>NaN</td>\n      <td>NaN</td>\n      <td>NaN</td>\n      <td>NaN</td>\n      <td>NaN</td>\n    </tr>\n    <tr>\n      <th>25492</th>\n      <td>NaN</td>\n      <td>NaN</td>\n      <td>NaN</td>\n      <td>NaN</td>\n      <td>NaN</td>\n      <td>1.0</td>\n      <td>1.0</td>\n      <td>1.0</td>\n      <td>1.0</td>\n      <td>1.0</td>\n      <td>...</td>\n      <td>NaN</td>\n      <td>NaN</td>\n      <td>NaN</td>\n      <td>NaN</td>\n      <td>NaN</td>\n      <td>NaN</td>\n      <td>NaN</td>\n      <td>NaN</td>\n      <td>NaN</td>\n      <td>NaN</td>\n    </tr>\n    <tr>\n      <th>25521</th>\n      <td>NaN</td>\n      <td>NaN</td>\n      <td>NaN</td>\n      <td>NaN</td>\n      <td>NaN</td>\n      <td>NaN</td>\n      <td>NaN</td>\n      <td>NaN</td>\n      <td>NaN</td>\n      <td>NaN</td>\n      <td>...</td>\n      <td>NaN</td>\n      <td>NaN</td>\n      <td>NaN</td>\n      <td>NaN</td>\n      <td>NaN</td>\n      <td>NaN</td>\n      <td>NaN</td>\n      <td>NaN</td>\n      <td>NaN</td>\n      <td>NaN</td>\n    </tr>\n    <tr>\n      <th>25522</th>\n      <td>NaN</td>\n      <td>NaN</td>\n      <td>NaN</td>\n      <td>1.0</td>\n      <td>NaN</td>\n      <td>NaN</td>\n      <td>NaN</td>\n      <td>NaN</td>\n      <td>NaN</td>\n      <td>NaN</td>\n      <td>...</td>\n      <td>NaN</td>\n      <td>NaN</td>\n      <td>NaN</td>\n      <td>NaN</td>\n      <td>NaN</td>\n      <td>NaN</td>\n      <td>NaN</td>\n      <td>NaN</td>\n      <td>NaN</td>\n      <td>NaN</td>\n    </tr>\n    <tr>\n      <th>25523</th>\n      <td>NaN</td>\n      <td>NaN</td>\n      <td>NaN</td>\n      <td>NaN</td>\n      <td>NaN</td>\n      <td>NaN</td>\n      <td>NaN</td>\n      <td>NaN</td>\n      <td>NaN</td>\n      <td>NaN</td>\n      <td>...</td>\n      <td>NaN</td>\n      <td>NaN</td>\n      <td>NaN</td>\n      <td>NaN</td>\n      <td>NaN</td>\n      <td>NaN</td>\n      <td>NaN</td>\n      <td>NaN</td>\n      <td>NaN</td>\n      <td>NaN</td>\n    </tr>\n    <tr>\n      <th>...</th>\n      <td>...</td>\n      <td>...</td>\n      <td>...</td>\n      <td>...</td>\n      <td>...</td>\n      <td>...</td>\n      <td>...</td>\n      <td>...</td>\n      <td>...</td>\n      <td>...</td>\n      <td>...</td>\n      <td>...</td>\n      <td>...</td>\n      <td>...</td>\n      <td>...</td>\n      <td>...</td>\n      <td>...</td>\n      <td>...</td>\n      <td>...</td>\n      <td>...</td>\n      <td>...</td>\n    </tr>\n    <tr>\n      <th>104593</th>\n      <td>NaN</td>\n      <td>NaN</td>\n      <td>NaN</td>\n      <td>NaN</td>\n      <td>NaN</td>\n      <td>NaN</td>\n      <td>NaN</td>\n      <td>NaN</td>\n      <td>NaN</td>\n      <td>NaN</td>\n      <td>...</td>\n      <td>NaN</td>\n      <td>NaN</td>\n      <td>NaN</td>\n      <td>NaN</td>\n      <td>NaN</td>\n      <td>NaN</td>\n      <td>NaN</td>\n      <td>NaN</td>\n      <td>NaN</td>\n      <td>NaN</td>\n    </tr>\n    <tr>\n      <th>104595</th>\n      <td>NaN</td>\n      <td>NaN</td>\n      <td>NaN</td>\n      <td>NaN</td>\n      <td>NaN</td>\n      <td>NaN</td>\n      <td>NaN</td>\n      <td>NaN</td>\n      <td>NaN</td>\n      <td>NaN</td>\n      <td>...</td>\n      <td>NaN</td>\n      <td>NaN</td>\n      <td>NaN</td>\n      <td>NaN</td>\n      <td>NaN</td>\n      <td>NaN</td>\n      <td>NaN</td>\n      <td>NaN</td>\n      <td>NaN</td>\n      <td>NaN</td>\n    </tr>\n    <tr>\n      <th>104597</th>\n      <td>1.0</td>\n      <td>1.0</td>\n      <td>1.0</td>\n      <td>NaN</td>\n      <td>NaN</td>\n      <td>NaN</td>\n      <td>1.0</td>\n      <td>NaN</td>\n      <td>NaN</td>\n      <td>NaN</td>\n      <td>...</td>\n      <td>1.0</td>\n      <td>1.0</td>\n      <td>1.0</td>\n      <td>1.0</td>\n      <td>1.0</td>\n      <td>NaN</td>\n      <td>NaN</td>\n      <td>NaN</td>\n      <td>NaN</td>\n      <td>NaN</td>\n    </tr>\n    <tr>\n      <th>104598</th>\n      <td>NaN</td>\n      <td>NaN</td>\n      <td>NaN</td>\n      <td>NaN</td>\n      <td>NaN</td>\n      <td>NaN</td>\n      <td>NaN</td>\n      <td>NaN</td>\n      <td>NaN</td>\n      <td>NaN</td>\n      <td>...</td>\n      <td>NaN</td>\n      <td>NaN</td>\n      <td>NaN</td>\n      <td>NaN</td>\n      <td>NaN</td>\n      <td>1.0</td>\n      <td>NaN</td>\n      <td>NaN</td>\n      <td>NaN</td>\n      <td>NaN</td>\n    </tr>\n    <tr>\n      <th>104599</th>\n      <td>NaN</td>\n      <td>1.0</td>\n      <td>NaN</td>\n      <td>NaN</td>\n      <td>NaN</td>\n      <td>NaN</td>\n      <td>NaN</td>\n      <td>NaN</td>\n      <td>NaN</td>\n      <td>NaN</td>\n      <td>...</td>\n      <td>NaN</td>\n      <td>NaN</td>\n      <td>NaN</td>\n      <td>NaN</td>\n      <td>NaN</td>\n      <td>NaN</td>\n      <td>1.0</td>\n      <td>1.0</td>\n      <td>1.0</td>\n      <td>1.0</td>\n    </tr>\n  </tbody>\n</table>\n<p>4079 rows × 550 columns</p>\n</div>"
     },
     "execution_count": 110,
     "metadata": {},
     "output_type": "execute_result"
    }
   ],
   "source": [
    "df_prod_per_order"
   ],
   "metadata": {
    "collapsed": false
   }
  },
  {
   "cell_type": "code",
   "execution_count": 111,
   "outputs": [
    {
     "data": {
      "text/plain": "550"
     },
     "execution_count": 111,
     "metadata": {},
     "output_type": "execute_result"
    }
   ],
   "source": [
    "num_of_products = len(df_prod_per_order.columns)\n",
    "num_of_products"
   ],
   "metadata": {
    "collapsed": false
   }
  },
  {
   "cell_type": "code",
   "execution_count": 112,
   "outputs": [
    {
     "data": {
      "text/plain": "(550, 550)"
     },
     "execution_count": 112,
     "metadata": {},
     "output_type": "execute_result"
    }
   ],
   "source": [
    "product_matrix = np.zeros((num_of_products,num_of_products))\n",
    "np.shape(product_matrix)"
   ],
   "metadata": {
    "collapsed": false
   }
  },
  {
   "cell_type": "code",
   "execution_count": 113,
   "outputs": [
    {
     "data": {
      "text/plain": "         331l  64162  16162S  12162CB  5005-7  50099  50500  8001  132082CP  \\\n331l      0.0    0.0     0.0      0.0     0.0    0.0    0.0   0.0       0.0   \n64162     0.0    0.0     0.0      0.0     0.0    0.0    0.0   0.0       0.0   \n16162S    0.0    0.0     0.0      0.0     0.0    0.0    0.0   0.0       0.0   \n12162CB   0.0    0.0     0.0      0.0     0.0    0.0    0.0   0.0       0.0   \n5005-7    0.0    0.0     0.0      0.0     0.0    0.0    0.0   0.0       0.0   \n...       ...    ...     ...      ...     ...    ...    ...   ...       ...   \n336XXL    0.0    0.0     0.0      0.0     0.0    0.0    0.0   0.0       0.0   \n51005     0.0    0.0     0.0      0.0     0.0    0.0    0.0   0.0       0.0   \n63026     0.0    0.0     0.0      0.0     0.0    0.0    0.0   0.0       0.0   \n88038     0.0    0.0     0.0      0.0     0.0    0.0    0.0   0.0       0.0   \n88045     0.0    0.0     0.0      0.0     0.0    0.0    0.0   0.0       0.0   \n\n         37170  ...  18162crf  11451GC  152082SP  17162CANG  18162CAF  336XXL  \\\n331l       0.0  ...       0.0      0.0       0.0        0.0       0.0     0.0   \n64162      0.0  ...       0.0      0.0       0.0        0.0       0.0     0.0   \n16162S     0.0  ...       0.0      0.0       0.0        0.0       0.0     0.0   \n12162CB    0.0  ...       0.0      0.0       0.0        0.0       0.0     0.0   \n5005-7     0.0  ...       0.0      0.0       0.0        0.0       0.0     0.0   \n...        ...  ...       ...      ...       ...        ...       ...     ...   \n336XXL     0.0  ...       0.0      0.0       0.0        0.0       0.0     0.0   \n51005      0.0  ...       0.0      0.0       0.0        0.0       0.0     0.0   \n63026      0.0  ...       0.0      0.0       0.0        0.0       0.0     0.0   \n88038      0.0  ...       0.0      0.0       0.0        0.0       0.0     0.0   \n88045      0.0  ...       0.0      0.0       0.0        0.0       0.0     0.0   \n\n         51005  63026  88038  88045  \n331l       0.0    0.0    0.0    0.0  \n64162      0.0    0.0    0.0    0.0  \n16162S     0.0    0.0    0.0    0.0  \n12162CB    0.0    0.0    0.0    0.0  \n5005-7     0.0    0.0    0.0    0.0  \n...        ...    ...    ...    ...  \n336XXL     0.0    0.0    0.0    0.0  \n51005      0.0    0.0    0.0    0.0  \n63026      0.0    0.0    0.0    0.0  \n88038      0.0    0.0    0.0    0.0  \n88045      0.0    0.0    0.0    0.0  \n\n[550 rows x 550 columns]",
      "text/html": "<div>\n<style scoped>\n    .dataframe tbody tr th:only-of-type {\n        vertical-align: middle;\n    }\n\n    .dataframe tbody tr th {\n        vertical-align: top;\n    }\n\n    .dataframe thead th {\n        text-align: right;\n    }\n</style>\n<table border=\"1\" class=\"dataframe\">\n  <thead>\n    <tr style=\"text-align: right;\">\n      <th></th>\n      <th>331l</th>\n      <th>64162</th>\n      <th>16162S</th>\n      <th>12162CB</th>\n      <th>5005-7</th>\n      <th>50099</th>\n      <th>50500</th>\n      <th>8001</th>\n      <th>132082CP</th>\n      <th>37170</th>\n      <th>...</th>\n      <th>18162crf</th>\n      <th>11451GC</th>\n      <th>152082SP</th>\n      <th>17162CANG</th>\n      <th>18162CAF</th>\n      <th>336XXL</th>\n      <th>51005</th>\n      <th>63026</th>\n      <th>88038</th>\n      <th>88045</th>\n    </tr>\n  </thead>\n  <tbody>\n    <tr>\n      <th>331l</th>\n      <td>0.0</td>\n      <td>0.0</td>\n      <td>0.0</td>\n      <td>0.0</td>\n      <td>0.0</td>\n      <td>0.0</td>\n      <td>0.0</td>\n      <td>0.0</td>\n      <td>0.0</td>\n      <td>0.0</td>\n      <td>...</td>\n      <td>0.0</td>\n      <td>0.0</td>\n      <td>0.0</td>\n      <td>0.0</td>\n      <td>0.0</td>\n      <td>0.0</td>\n      <td>0.0</td>\n      <td>0.0</td>\n      <td>0.0</td>\n      <td>0.0</td>\n    </tr>\n    <tr>\n      <th>64162</th>\n      <td>0.0</td>\n      <td>0.0</td>\n      <td>0.0</td>\n      <td>0.0</td>\n      <td>0.0</td>\n      <td>0.0</td>\n      <td>0.0</td>\n      <td>0.0</td>\n      <td>0.0</td>\n      <td>0.0</td>\n      <td>...</td>\n      <td>0.0</td>\n      <td>0.0</td>\n      <td>0.0</td>\n      <td>0.0</td>\n      <td>0.0</td>\n      <td>0.0</td>\n      <td>0.0</td>\n      <td>0.0</td>\n      <td>0.0</td>\n      <td>0.0</td>\n    </tr>\n    <tr>\n      <th>16162S</th>\n      <td>0.0</td>\n      <td>0.0</td>\n      <td>0.0</td>\n      <td>0.0</td>\n      <td>0.0</td>\n      <td>0.0</td>\n      <td>0.0</td>\n      <td>0.0</td>\n      <td>0.0</td>\n      <td>0.0</td>\n      <td>...</td>\n      <td>0.0</td>\n      <td>0.0</td>\n      <td>0.0</td>\n      <td>0.0</td>\n      <td>0.0</td>\n      <td>0.0</td>\n      <td>0.0</td>\n      <td>0.0</td>\n      <td>0.0</td>\n      <td>0.0</td>\n    </tr>\n    <tr>\n      <th>12162CB</th>\n      <td>0.0</td>\n      <td>0.0</td>\n      <td>0.0</td>\n      <td>0.0</td>\n      <td>0.0</td>\n      <td>0.0</td>\n      <td>0.0</td>\n      <td>0.0</td>\n      <td>0.0</td>\n      <td>0.0</td>\n      <td>...</td>\n      <td>0.0</td>\n      <td>0.0</td>\n      <td>0.0</td>\n      <td>0.0</td>\n      <td>0.0</td>\n      <td>0.0</td>\n      <td>0.0</td>\n      <td>0.0</td>\n      <td>0.0</td>\n      <td>0.0</td>\n    </tr>\n    <tr>\n      <th>5005-7</th>\n      <td>0.0</td>\n      <td>0.0</td>\n      <td>0.0</td>\n      <td>0.0</td>\n      <td>0.0</td>\n      <td>0.0</td>\n      <td>0.0</td>\n      <td>0.0</td>\n      <td>0.0</td>\n      <td>0.0</td>\n      <td>...</td>\n      <td>0.0</td>\n      <td>0.0</td>\n      <td>0.0</td>\n      <td>0.0</td>\n      <td>0.0</td>\n      <td>0.0</td>\n      <td>0.0</td>\n      <td>0.0</td>\n      <td>0.0</td>\n      <td>0.0</td>\n    </tr>\n    <tr>\n      <th>...</th>\n      <td>...</td>\n      <td>...</td>\n      <td>...</td>\n      <td>...</td>\n      <td>...</td>\n      <td>...</td>\n      <td>...</td>\n      <td>...</td>\n      <td>...</td>\n      <td>...</td>\n      <td>...</td>\n      <td>...</td>\n      <td>...</td>\n      <td>...</td>\n      <td>...</td>\n      <td>...</td>\n      <td>...</td>\n      <td>...</td>\n      <td>...</td>\n      <td>...</td>\n      <td>...</td>\n    </tr>\n    <tr>\n      <th>336XXL</th>\n      <td>0.0</td>\n      <td>0.0</td>\n      <td>0.0</td>\n      <td>0.0</td>\n      <td>0.0</td>\n      <td>0.0</td>\n      <td>0.0</td>\n      <td>0.0</td>\n      <td>0.0</td>\n      <td>0.0</td>\n      <td>...</td>\n      <td>0.0</td>\n      <td>0.0</td>\n      <td>0.0</td>\n      <td>0.0</td>\n      <td>0.0</td>\n      <td>0.0</td>\n      <td>0.0</td>\n      <td>0.0</td>\n      <td>0.0</td>\n      <td>0.0</td>\n    </tr>\n    <tr>\n      <th>51005</th>\n      <td>0.0</td>\n      <td>0.0</td>\n      <td>0.0</td>\n      <td>0.0</td>\n      <td>0.0</td>\n      <td>0.0</td>\n      <td>0.0</td>\n      <td>0.0</td>\n      <td>0.0</td>\n      <td>0.0</td>\n      <td>...</td>\n      <td>0.0</td>\n      <td>0.0</td>\n      <td>0.0</td>\n      <td>0.0</td>\n      <td>0.0</td>\n      <td>0.0</td>\n      <td>0.0</td>\n      <td>0.0</td>\n      <td>0.0</td>\n      <td>0.0</td>\n    </tr>\n    <tr>\n      <th>63026</th>\n      <td>0.0</td>\n      <td>0.0</td>\n      <td>0.0</td>\n      <td>0.0</td>\n      <td>0.0</td>\n      <td>0.0</td>\n      <td>0.0</td>\n      <td>0.0</td>\n      <td>0.0</td>\n      <td>0.0</td>\n      <td>...</td>\n      <td>0.0</td>\n      <td>0.0</td>\n      <td>0.0</td>\n      <td>0.0</td>\n      <td>0.0</td>\n      <td>0.0</td>\n      <td>0.0</td>\n      <td>0.0</td>\n      <td>0.0</td>\n      <td>0.0</td>\n    </tr>\n    <tr>\n      <th>88038</th>\n      <td>0.0</td>\n      <td>0.0</td>\n      <td>0.0</td>\n      <td>0.0</td>\n      <td>0.0</td>\n      <td>0.0</td>\n      <td>0.0</td>\n      <td>0.0</td>\n      <td>0.0</td>\n      <td>0.0</td>\n      <td>...</td>\n      <td>0.0</td>\n      <td>0.0</td>\n      <td>0.0</td>\n      <td>0.0</td>\n      <td>0.0</td>\n      <td>0.0</td>\n      <td>0.0</td>\n      <td>0.0</td>\n      <td>0.0</td>\n      <td>0.0</td>\n    </tr>\n    <tr>\n      <th>88045</th>\n      <td>0.0</td>\n      <td>0.0</td>\n      <td>0.0</td>\n      <td>0.0</td>\n      <td>0.0</td>\n      <td>0.0</td>\n      <td>0.0</td>\n      <td>0.0</td>\n      <td>0.0</td>\n      <td>0.0</td>\n      <td>...</td>\n      <td>0.0</td>\n      <td>0.0</td>\n      <td>0.0</td>\n      <td>0.0</td>\n      <td>0.0</td>\n      <td>0.0</td>\n      <td>0.0</td>\n      <td>0.0</td>\n      <td>0.0</td>\n      <td>0.0</td>\n    </tr>\n  </tbody>\n</table>\n<p>550 rows × 550 columns</p>\n</div>"
     },
     "execution_count": 113,
     "metadata": {},
     "output_type": "execute_result"
    }
   ],
   "source": [
    "df_products = pd.DataFrame(product_matrix,columns=df_prod_per_order.columns.tolist(), index=df_prod_per_order.columns.tolist())\n",
    "df_products"
   ],
   "metadata": {
    "collapsed": false
   }
  },
  {
   "cell_type": "code",
   "execution_count": 114,
   "outputs": [
    {
     "data": {
      "text/plain": "        331l  64162  16162S  12162CB  5005-7  50099  50500  8001  132082CP  \\\norder                                                                        \n25483    1.0    1.0     1.0      1.0     1.0    0.0    0.0   0.0       0.0   \n25492    0.0    0.0     0.0      0.0     0.0    1.0    1.0   1.0       1.0   \n25521    0.0    0.0     0.0      0.0     0.0    0.0    0.0   0.0       0.0   \n25522    0.0    0.0     0.0      1.0     0.0    0.0    0.0   0.0       0.0   \n25523    0.0    0.0     0.0      0.0     0.0    0.0    0.0   0.0       0.0   \n...      ...    ...     ...      ...     ...    ...    ...   ...       ...   \n104593   0.0    0.0     0.0      0.0     0.0    0.0    0.0   0.0       0.0   \n104595   0.0    0.0     0.0      0.0     0.0    0.0    0.0   0.0       0.0   \n104597   1.0    1.0     1.0      0.0     0.0    0.0    1.0   0.0       0.0   \n104598   0.0    0.0     0.0      0.0     0.0    0.0    0.0   0.0       0.0   \n104599   0.0    1.0     0.0      0.0     0.0    0.0    0.0   0.0       0.0   \n\n        37170  ...  18162crf  11451GC  152082SP  17162CANG  18162CAF  336XXL  \\\norder          ...                                                             \n25483     0.0  ...       0.0      0.0       0.0        0.0       0.0     0.0   \n25492     1.0  ...       0.0      0.0       0.0        0.0       0.0     0.0   \n25521     0.0  ...       0.0      0.0       0.0        0.0       0.0     0.0   \n25522     0.0  ...       0.0      0.0       0.0        0.0       0.0     0.0   \n25523     0.0  ...       0.0      0.0       0.0        0.0       0.0     0.0   \n...       ...  ...       ...      ...       ...        ...       ...     ...   \n104593    0.0  ...       0.0      0.0       0.0        0.0       0.0     0.0   \n104595    0.0  ...       0.0      0.0       0.0        0.0       0.0     0.0   \n104597    0.0  ...       1.0      1.0       1.0        1.0       1.0     0.0   \n104598    0.0  ...       0.0      0.0       0.0        0.0       0.0     1.0   \n104599    0.0  ...       0.0      0.0       0.0        0.0       0.0     0.0   \n\n        51005  63026  88038  88045  \norder                               \n25483     0.0    0.0    0.0    0.0  \n25492     0.0    0.0    0.0    0.0  \n25521     0.0    0.0    0.0    0.0  \n25522     0.0    0.0    0.0    0.0  \n25523     0.0    0.0    0.0    0.0  \n...       ...    ...    ...    ...  \n104593    0.0    0.0    0.0    0.0  \n104595    0.0    0.0    0.0    0.0  \n104597    0.0    0.0    0.0    0.0  \n104598    0.0    0.0    0.0    0.0  \n104599    1.0    1.0    1.0    1.0  \n\n[4079 rows x 550 columns]",
      "text/html": "<div>\n<style scoped>\n    .dataframe tbody tr th:only-of-type {\n        vertical-align: middle;\n    }\n\n    .dataframe tbody tr th {\n        vertical-align: top;\n    }\n\n    .dataframe thead th {\n        text-align: right;\n    }\n</style>\n<table border=\"1\" class=\"dataframe\">\n  <thead>\n    <tr style=\"text-align: right;\">\n      <th></th>\n      <th>331l</th>\n      <th>64162</th>\n      <th>16162S</th>\n      <th>12162CB</th>\n      <th>5005-7</th>\n      <th>50099</th>\n      <th>50500</th>\n      <th>8001</th>\n      <th>132082CP</th>\n      <th>37170</th>\n      <th>...</th>\n      <th>18162crf</th>\n      <th>11451GC</th>\n      <th>152082SP</th>\n      <th>17162CANG</th>\n      <th>18162CAF</th>\n      <th>336XXL</th>\n      <th>51005</th>\n      <th>63026</th>\n      <th>88038</th>\n      <th>88045</th>\n    </tr>\n    <tr>\n      <th>order</th>\n      <th></th>\n      <th></th>\n      <th></th>\n      <th></th>\n      <th></th>\n      <th></th>\n      <th></th>\n      <th></th>\n      <th></th>\n      <th></th>\n      <th></th>\n      <th></th>\n      <th></th>\n      <th></th>\n      <th></th>\n      <th></th>\n      <th></th>\n      <th></th>\n      <th></th>\n      <th></th>\n      <th></th>\n    </tr>\n  </thead>\n  <tbody>\n    <tr>\n      <th>25483</th>\n      <td>1.0</td>\n      <td>1.0</td>\n      <td>1.0</td>\n      <td>1.0</td>\n      <td>1.0</td>\n      <td>0.0</td>\n      <td>0.0</td>\n      <td>0.0</td>\n      <td>0.0</td>\n      <td>0.0</td>\n      <td>...</td>\n      <td>0.0</td>\n      <td>0.0</td>\n      <td>0.0</td>\n      <td>0.0</td>\n      <td>0.0</td>\n      <td>0.0</td>\n      <td>0.0</td>\n      <td>0.0</td>\n      <td>0.0</td>\n      <td>0.0</td>\n    </tr>\n    <tr>\n      <th>25492</th>\n      <td>0.0</td>\n      <td>0.0</td>\n      <td>0.0</td>\n      <td>0.0</td>\n      <td>0.0</td>\n      <td>1.0</td>\n      <td>1.0</td>\n      <td>1.0</td>\n      <td>1.0</td>\n      <td>1.0</td>\n      <td>...</td>\n      <td>0.0</td>\n      <td>0.0</td>\n      <td>0.0</td>\n      <td>0.0</td>\n      <td>0.0</td>\n      <td>0.0</td>\n      <td>0.0</td>\n      <td>0.0</td>\n      <td>0.0</td>\n      <td>0.0</td>\n    </tr>\n    <tr>\n      <th>25521</th>\n      <td>0.0</td>\n      <td>0.0</td>\n      <td>0.0</td>\n      <td>0.0</td>\n      <td>0.0</td>\n      <td>0.0</td>\n      <td>0.0</td>\n      <td>0.0</td>\n      <td>0.0</td>\n      <td>0.0</td>\n      <td>...</td>\n      <td>0.0</td>\n      <td>0.0</td>\n      <td>0.0</td>\n      <td>0.0</td>\n      <td>0.0</td>\n      <td>0.0</td>\n      <td>0.0</td>\n      <td>0.0</td>\n      <td>0.0</td>\n      <td>0.0</td>\n    </tr>\n    <tr>\n      <th>25522</th>\n      <td>0.0</td>\n      <td>0.0</td>\n      <td>0.0</td>\n      <td>1.0</td>\n      <td>0.0</td>\n      <td>0.0</td>\n      <td>0.0</td>\n      <td>0.0</td>\n      <td>0.0</td>\n      <td>0.0</td>\n      <td>...</td>\n      <td>0.0</td>\n      <td>0.0</td>\n      <td>0.0</td>\n      <td>0.0</td>\n      <td>0.0</td>\n      <td>0.0</td>\n      <td>0.0</td>\n      <td>0.0</td>\n      <td>0.0</td>\n      <td>0.0</td>\n    </tr>\n    <tr>\n      <th>25523</th>\n      <td>0.0</td>\n      <td>0.0</td>\n      <td>0.0</td>\n      <td>0.0</td>\n      <td>0.0</td>\n      <td>0.0</td>\n      <td>0.0</td>\n      <td>0.0</td>\n      <td>0.0</td>\n      <td>0.0</td>\n      <td>...</td>\n      <td>0.0</td>\n      <td>0.0</td>\n      <td>0.0</td>\n      <td>0.0</td>\n      <td>0.0</td>\n      <td>0.0</td>\n      <td>0.0</td>\n      <td>0.0</td>\n      <td>0.0</td>\n      <td>0.0</td>\n    </tr>\n    <tr>\n      <th>...</th>\n      <td>...</td>\n      <td>...</td>\n      <td>...</td>\n      <td>...</td>\n      <td>...</td>\n      <td>...</td>\n      <td>...</td>\n      <td>...</td>\n      <td>...</td>\n      <td>...</td>\n      <td>...</td>\n      <td>...</td>\n      <td>...</td>\n      <td>...</td>\n      <td>...</td>\n      <td>...</td>\n      <td>...</td>\n      <td>...</td>\n      <td>...</td>\n      <td>...</td>\n      <td>...</td>\n    </tr>\n    <tr>\n      <th>104593</th>\n      <td>0.0</td>\n      <td>0.0</td>\n      <td>0.0</td>\n      <td>0.0</td>\n      <td>0.0</td>\n      <td>0.0</td>\n      <td>0.0</td>\n      <td>0.0</td>\n      <td>0.0</td>\n      <td>0.0</td>\n      <td>...</td>\n      <td>0.0</td>\n      <td>0.0</td>\n      <td>0.0</td>\n      <td>0.0</td>\n      <td>0.0</td>\n      <td>0.0</td>\n      <td>0.0</td>\n      <td>0.0</td>\n      <td>0.0</td>\n      <td>0.0</td>\n    </tr>\n    <tr>\n      <th>104595</th>\n      <td>0.0</td>\n      <td>0.0</td>\n      <td>0.0</td>\n      <td>0.0</td>\n      <td>0.0</td>\n      <td>0.0</td>\n      <td>0.0</td>\n      <td>0.0</td>\n      <td>0.0</td>\n      <td>0.0</td>\n      <td>...</td>\n      <td>0.0</td>\n      <td>0.0</td>\n      <td>0.0</td>\n      <td>0.0</td>\n      <td>0.0</td>\n      <td>0.0</td>\n      <td>0.0</td>\n      <td>0.0</td>\n      <td>0.0</td>\n      <td>0.0</td>\n    </tr>\n    <tr>\n      <th>104597</th>\n      <td>1.0</td>\n      <td>1.0</td>\n      <td>1.0</td>\n      <td>0.0</td>\n      <td>0.0</td>\n      <td>0.0</td>\n      <td>1.0</td>\n      <td>0.0</td>\n      <td>0.0</td>\n      <td>0.0</td>\n      <td>...</td>\n      <td>1.0</td>\n      <td>1.0</td>\n      <td>1.0</td>\n      <td>1.0</td>\n      <td>1.0</td>\n      <td>0.0</td>\n      <td>0.0</td>\n      <td>0.0</td>\n      <td>0.0</td>\n      <td>0.0</td>\n    </tr>\n    <tr>\n      <th>104598</th>\n      <td>0.0</td>\n      <td>0.0</td>\n      <td>0.0</td>\n      <td>0.0</td>\n      <td>0.0</td>\n      <td>0.0</td>\n      <td>0.0</td>\n      <td>0.0</td>\n      <td>0.0</td>\n      <td>0.0</td>\n      <td>...</td>\n      <td>0.0</td>\n      <td>0.0</td>\n      <td>0.0</td>\n      <td>0.0</td>\n      <td>0.0</td>\n      <td>1.0</td>\n      <td>0.0</td>\n      <td>0.0</td>\n      <td>0.0</td>\n      <td>0.0</td>\n    </tr>\n    <tr>\n      <th>104599</th>\n      <td>0.0</td>\n      <td>1.0</td>\n      <td>0.0</td>\n      <td>0.0</td>\n      <td>0.0</td>\n      <td>0.0</td>\n      <td>0.0</td>\n      <td>0.0</td>\n      <td>0.0</td>\n      <td>0.0</td>\n      <td>...</td>\n      <td>0.0</td>\n      <td>0.0</td>\n      <td>0.0</td>\n      <td>0.0</td>\n      <td>0.0</td>\n      <td>0.0</td>\n      <td>1.0</td>\n      <td>1.0</td>\n      <td>1.0</td>\n      <td>1.0</td>\n    </tr>\n  </tbody>\n</table>\n<p>4079 rows × 550 columns</p>\n</div>"
     },
     "execution_count": 114,
     "metadata": {},
     "output_type": "execute_result"
    }
   ],
   "source": [
    "df_prod_per_order.fillna(0, inplace=True)\n",
    "df_prod_per_order"
   ],
   "metadata": {
    "collapsed": false
   }
  },
  {
   "cell_type": "code",
   "execution_count": 115,
   "outputs": [
    {
     "data": {
      "text/plain": "order\n25483     [(0, 1), (0, 2), (0, 3), (0, 4), (1, 2), (1, 3...\n25492     [(5, 6), (5, 7), (5, 8), (5, 9), (5, 10), (6, ...\n25522     [(3, 12), (3, 13), (3, 14), (3, 15), (3, 16), ...\n25523                                            [(14, 18)]\n25526     [(3, 8), (3, 20), (3, 21), (3, 22), (3, 23), (...\n                                ...                        \n104592    [(161, 284), (161, 373), (161, 526), (284, 373...\n104593                                          [(19, 249)]\n104597    [(0, 1), (0, 2), (0, 6), (0, 11), (0, 12), (0,...\n104598    [(53, 61), (53, 88), (53, 94), (53, 149), (53,...\n104599    [(1, 14), (1, 18), (1, 32), (1, 49), (1, 50), ...\nLength: 2700, dtype: object"
     },
     "execution_count": 115,
     "metadata": {},
     "output_type": "execute_result"
    }
   ],
   "source": [
    "filtered_df = df_prod_per_order[df_prod_per_order.sum(axis=1) >= 2]\n",
    "def get_index_pairs(row):\n",
    "    non_zero_indices = np.argwhere(row.values)\n",
    "    index_pairs = []\n",
    "    for i in range(len(non_zero_indices)):\n",
    "        for j in range(i+1, len(non_zero_indices)):\n",
    "            index_pairs.append((non_zero_indices[i][0], non_zero_indices[j][0]))\n",
    "    return index_pairs\n",
    "\n",
    "index_pairs = filtered_df.apply(get_index_pairs, axis=1)\n",
    "index_pairs"
   ],
   "metadata": {
    "collapsed": false
   }
  },
  {
   "cell_type": "code",
   "execution_count": 116,
   "outputs": [
    {
     "data": {
      "text/plain": "         331l  64162  16162S  12162CB  5005-7  50099  50500  8001  132082CP  \\\n331l      0.0    2.0     3.0      1.0     3.0    0.0    1.0   0.0       0.0   \n64162     0.0    0.0     2.0      1.0     1.0    0.0    1.0   0.0       0.0   \n16162S    0.0    0.0     0.0      1.0     1.0    0.0    1.0   0.0       0.0   \n12162CB   0.0    0.0     0.0      0.0     1.0    0.0    0.0   0.0       1.0   \n5005-7    0.0    0.0     0.0      0.0     0.0    0.0    0.0   0.0       0.0   \n...       ...    ...     ...      ...     ...    ...    ...   ...       ...   \n336XXL    0.0    0.0     0.0      0.0     0.0    0.0    0.0   0.0       0.0   \n51005     0.0    0.0     0.0      0.0     0.0    0.0    0.0   0.0       0.0   \n63026     0.0    0.0     0.0      0.0     0.0    0.0    0.0   0.0       0.0   \n88038     0.0    0.0     0.0      0.0     0.0    0.0    0.0   0.0       0.0   \n88045     0.0    0.0     0.0      0.0     0.0    0.0    0.0   0.0       0.0   \n\n         37170  ...  18162crf  11451GC  152082SP  17162CANG  18162CAF  336XXL  \\\n331l       1.0  ...       1.0      1.0       1.0        1.0       1.0     0.0   \n64162      0.0  ...       1.0      1.0       1.0        1.0       1.0     0.0   \n16162S     0.0  ...       1.0      1.0       1.0        1.0       1.0     0.0   \n12162CB    0.0  ...       0.0      0.0       0.0        0.0       0.0     0.0   \n5005-7     3.0  ...       0.0      0.0       0.0        0.0       0.0     0.0   \n...        ...  ...       ...      ...       ...        ...       ...     ...   \n336XXL     0.0  ...       0.0      0.0       0.0        0.0       0.0     0.0   \n51005      0.0  ...       0.0      0.0       0.0        0.0       0.0     0.0   \n63026      0.0  ...       0.0      0.0       0.0        0.0       0.0     0.0   \n88038      0.0  ...       0.0      0.0       0.0        0.0       0.0     0.0   \n88045      0.0  ...       0.0      0.0       0.0        0.0       0.0     0.0   \n\n         51005  63026  88038  88045  \n331l       0.0    0.0    0.0    0.0  \n64162      1.0    1.0    1.0    1.0  \n16162S     0.0    0.0    0.0    0.0  \n12162CB    0.0    0.0    0.0    0.0  \n5005-7     0.0    0.0    0.0    0.0  \n...        ...    ...    ...    ...  \n336XXL     0.0    0.0    0.0    0.0  \n51005      0.0    1.0    1.0    1.0  \n63026      0.0    0.0    1.0    1.0  \n88038      0.0    0.0    0.0    1.0  \n88045      0.0    0.0    0.0    0.0  \n\n[550 rows x 550 columns]",
      "text/html": "<div>\n<style scoped>\n    .dataframe tbody tr th:only-of-type {\n        vertical-align: middle;\n    }\n\n    .dataframe tbody tr th {\n        vertical-align: top;\n    }\n\n    .dataframe thead th {\n        text-align: right;\n    }\n</style>\n<table border=\"1\" class=\"dataframe\">\n  <thead>\n    <tr style=\"text-align: right;\">\n      <th></th>\n      <th>331l</th>\n      <th>64162</th>\n      <th>16162S</th>\n      <th>12162CB</th>\n      <th>5005-7</th>\n      <th>50099</th>\n      <th>50500</th>\n      <th>8001</th>\n      <th>132082CP</th>\n      <th>37170</th>\n      <th>...</th>\n      <th>18162crf</th>\n      <th>11451GC</th>\n      <th>152082SP</th>\n      <th>17162CANG</th>\n      <th>18162CAF</th>\n      <th>336XXL</th>\n      <th>51005</th>\n      <th>63026</th>\n      <th>88038</th>\n      <th>88045</th>\n    </tr>\n  </thead>\n  <tbody>\n    <tr>\n      <th>331l</th>\n      <td>0.0</td>\n      <td>2.0</td>\n      <td>3.0</td>\n      <td>1.0</td>\n      <td>3.0</td>\n      <td>0.0</td>\n      <td>1.0</td>\n      <td>0.0</td>\n      <td>0.0</td>\n      <td>1.0</td>\n      <td>...</td>\n      <td>1.0</td>\n      <td>1.0</td>\n      <td>1.0</td>\n      <td>1.0</td>\n      <td>1.0</td>\n      <td>0.0</td>\n      <td>0.0</td>\n      <td>0.0</td>\n      <td>0.0</td>\n      <td>0.0</td>\n    </tr>\n    <tr>\n      <th>64162</th>\n      <td>0.0</td>\n      <td>0.0</td>\n      <td>2.0</td>\n      <td>1.0</td>\n      <td>1.0</td>\n      <td>0.0</td>\n      <td>1.0</td>\n      <td>0.0</td>\n      <td>0.0</td>\n      <td>0.0</td>\n      <td>...</td>\n      <td>1.0</td>\n      <td>1.0</td>\n      <td>1.0</td>\n      <td>1.0</td>\n      <td>1.0</td>\n      <td>0.0</td>\n      <td>1.0</td>\n      <td>1.0</td>\n      <td>1.0</td>\n      <td>1.0</td>\n    </tr>\n    <tr>\n      <th>16162S</th>\n      <td>0.0</td>\n      <td>0.0</td>\n      <td>0.0</td>\n      <td>1.0</td>\n      <td>1.0</td>\n      <td>0.0</td>\n      <td>1.0</td>\n      <td>0.0</td>\n      <td>0.0</td>\n      <td>0.0</td>\n      <td>...</td>\n      <td>1.0</td>\n      <td>1.0</td>\n      <td>1.0</td>\n      <td>1.0</td>\n      <td>1.0</td>\n      <td>0.0</td>\n      <td>0.0</td>\n      <td>0.0</td>\n      <td>0.0</td>\n      <td>0.0</td>\n    </tr>\n    <tr>\n      <th>12162CB</th>\n      <td>0.0</td>\n      <td>0.0</td>\n      <td>0.0</td>\n      <td>0.0</td>\n      <td>1.0</td>\n      <td>0.0</td>\n      <td>0.0</td>\n      <td>0.0</td>\n      <td>1.0</td>\n      <td>0.0</td>\n      <td>...</td>\n      <td>0.0</td>\n      <td>0.0</td>\n      <td>0.0</td>\n      <td>0.0</td>\n      <td>0.0</td>\n      <td>0.0</td>\n      <td>0.0</td>\n      <td>0.0</td>\n      <td>0.0</td>\n      <td>0.0</td>\n    </tr>\n    <tr>\n      <th>5005-7</th>\n      <td>0.0</td>\n      <td>0.0</td>\n      <td>0.0</td>\n      <td>0.0</td>\n      <td>0.0</td>\n      <td>0.0</td>\n      <td>0.0</td>\n      <td>0.0</td>\n      <td>0.0</td>\n      <td>3.0</td>\n      <td>...</td>\n      <td>0.0</td>\n      <td>0.0</td>\n      <td>0.0</td>\n      <td>0.0</td>\n      <td>0.0</td>\n      <td>0.0</td>\n      <td>0.0</td>\n      <td>0.0</td>\n      <td>0.0</td>\n      <td>0.0</td>\n    </tr>\n    <tr>\n      <th>...</th>\n      <td>...</td>\n      <td>...</td>\n      <td>...</td>\n      <td>...</td>\n      <td>...</td>\n      <td>...</td>\n      <td>...</td>\n      <td>...</td>\n      <td>...</td>\n      <td>...</td>\n      <td>...</td>\n      <td>...</td>\n      <td>...</td>\n      <td>...</td>\n      <td>...</td>\n      <td>...</td>\n      <td>...</td>\n      <td>...</td>\n      <td>...</td>\n      <td>...</td>\n      <td>...</td>\n    </tr>\n    <tr>\n      <th>336XXL</th>\n      <td>0.0</td>\n      <td>0.0</td>\n      <td>0.0</td>\n      <td>0.0</td>\n      <td>0.0</td>\n      <td>0.0</td>\n      <td>0.0</td>\n      <td>0.0</td>\n      <td>0.0</td>\n      <td>0.0</td>\n      <td>...</td>\n      <td>0.0</td>\n      <td>0.0</td>\n      <td>0.0</td>\n      <td>0.0</td>\n      <td>0.0</td>\n      <td>0.0</td>\n      <td>0.0</td>\n      <td>0.0</td>\n      <td>0.0</td>\n      <td>0.0</td>\n    </tr>\n    <tr>\n      <th>51005</th>\n      <td>0.0</td>\n      <td>0.0</td>\n      <td>0.0</td>\n      <td>0.0</td>\n      <td>0.0</td>\n      <td>0.0</td>\n      <td>0.0</td>\n      <td>0.0</td>\n      <td>0.0</td>\n      <td>0.0</td>\n      <td>...</td>\n      <td>0.0</td>\n      <td>0.0</td>\n      <td>0.0</td>\n      <td>0.0</td>\n      <td>0.0</td>\n      <td>0.0</td>\n      <td>0.0</td>\n      <td>1.0</td>\n      <td>1.0</td>\n      <td>1.0</td>\n    </tr>\n    <tr>\n      <th>63026</th>\n      <td>0.0</td>\n      <td>0.0</td>\n      <td>0.0</td>\n      <td>0.0</td>\n      <td>0.0</td>\n      <td>0.0</td>\n      <td>0.0</td>\n      <td>0.0</td>\n      <td>0.0</td>\n      <td>0.0</td>\n      <td>...</td>\n      <td>0.0</td>\n      <td>0.0</td>\n      <td>0.0</td>\n      <td>0.0</td>\n      <td>0.0</td>\n      <td>0.0</td>\n      <td>0.0</td>\n      <td>0.0</td>\n      <td>1.0</td>\n      <td>1.0</td>\n    </tr>\n    <tr>\n      <th>88038</th>\n      <td>0.0</td>\n      <td>0.0</td>\n      <td>0.0</td>\n      <td>0.0</td>\n      <td>0.0</td>\n      <td>0.0</td>\n      <td>0.0</td>\n      <td>0.0</td>\n      <td>0.0</td>\n      <td>0.0</td>\n      <td>...</td>\n      <td>0.0</td>\n      <td>0.0</td>\n      <td>0.0</td>\n      <td>0.0</td>\n      <td>0.0</td>\n      <td>0.0</td>\n      <td>0.0</td>\n      <td>0.0</td>\n      <td>0.0</td>\n      <td>1.0</td>\n    </tr>\n    <tr>\n      <th>88045</th>\n      <td>0.0</td>\n      <td>0.0</td>\n      <td>0.0</td>\n      <td>0.0</td>\n      <td>0.0</td>\n      <td>0.0</td>\n      <td>0.0</td>\n      <td>0.0</td>\n      <td>0.0</td>\n      <td>0.0</td>\n      <td>...</td>\n      <td>0.0</td>\n      <td>0.0</td>\n      <td>0.0</td>\n      <td>0.0</td>\n      <td>0.0</td>\n      <td>0.0</td>\n      <td>0.0</td>\n      <td>0.0</td>\n      <td>0.0</td>\n      <td>0.0</td>\n    </tr>\n  </tbody>\n</table>\n<p>550 rows × 550 columns</p>\n</div>"
     },
     "execution_count": 116,
     "metadata": {},
     "output_type": "execute_result"
    }
   ],
   "source": [
    "for row in index_pairs:\n",
    "    for pair in row:\n",
    "        df_products.iloc[pair[0], pair[1]] += 1\n",
    "df_products"
   ],
   "metadata": {
    "collapsed": false
   }
  },
  {
   "cell_type": "code",
   "execution_count": 117,
   "outputs": [
    {
     "data": {
      "text/plain": "         331l  64162  16162S  12162CB  5005-7  50099  50500  8001  132082CP  \\\n331l        0      2       3        1       3      0      1     0         0   \n64162       2      0       2        1       1      0      1     0         0   \n16162S      3      2       0        1       1      0      1     0         0   \n12162CB     1      1       1        0       1      0      0     0         1   \n5005-7      3      1       1        1       0      0      0     0         0   \n...       ...    ...     ...      ...     ...    ...    ...   ...       ...   \n336XXL      0      0       0        0       0      0      0     0         0   \n51005       0      1       0        0       0      0      0     0         0   \n63026       0      1       0        0       0      0      0     0         0   \n88038       0      1       0        0       0      0      0     0         0   \n88045       0      1       0        0       0      0      0     0         0   \n\n         37170  ...  18162crf  336XL  50109  50112  50121  336XXL  51005  \\\n331l         1  ...         1      1      1      1      1       0      0   \n64162        0  ...         1      1      1      1      1       0      1   \n16162S       0  ...         1      1      1      1      1       0      0   \n12162CB      0  ...         0      0      0      0      0       0      0   \n5005-7       3  ...         0      0      0      0      0       0      0   \n...        ...  ...       ...    ...    ...    ...    ...     ...    ...   \n336XXL       0  ...         0      0      0      0      0       0      0   \n51005        0  ...         0      0      0      0      0       0      0   \n63026        0  ...         0      0      0      0      0       0      1   \n88038        0  ...         0      0      0      0      0       0      1   \n88045        0  ...         0      0      0      0      0       0      1   \n\n         63026  88038  88045  \n331l         0      0      0  \n64162        1      1      1  \n16162S       0      0      0  \n12162CB      0      0      0  \n5005-7       0      0      0  \n...        ...    ...    ...  \n336XXL       0      0      0  \n51005        1      1      1  \n63026        0      1      1  \n88038        1      0      1  \n88045        1      1      0  \n\n[550 rows x 550 columns]",
      "text/html": "<div>\n<style scoped>\n    .dataframe tbody tr th:only-of-type {\n        vertical-align: middle;\n    }\n\n    .dataframe tbody tr th {\n        vertical-align: top;\n    }\n\n    .dataframe thead th {\n        text-align: right;\n    }\n</style>\n<table border=\"1\" class=\"dataframe\">\n  <thead>\n    <tr style=\"text-align: right;\">\n      <th></th>\n      <th>331l</th>\n      <th>64162</th>\n      <th>16162S</th>\n      <th>12162CB</th>\n      <th>5005-7</th>\n      <th>50099</th>\n      <th>50500</th>\n      <th>8001</th>\n      <th>132082CP</th>\n      <th>37170</th>\n      <th>...</th>\n      <th>18162crf</th>\n      <th>336XL</th>\n      <th>50109</th>\n      <th>50112</th>\n      <th>50121</th>\n      <th>336XXL</th>\n      <th>51005</th>\n      <th>63026</th>\n      <th>88038</th>\n      <th>88045</th>\n    </tr>\n  </thead>\n  <tbody>\n    <tr>\n      <th>331l</th>\n      <td>0</td>\n      <td>2</td>\n      <td>3</td>\n      <td>1</td>\n      <td>3</td>\n      <td>0</td>\n      <td>1</td>\n      <td>0</td>\n      <td>0</td>\n      <td>1</td>\n      <td>...</td>\n      <td>1</td>\n      <td>1</td>\n      <td>1</td>\n      <td>1</td>\n      <td>1</td>\n      <td>0</td>\n      <td>0</td>\n      <td>0</td>\n      <td>0</td>\n      <td>0</td>\n    </tr>\n    <tr>\n      <th>64162</th>\n      <td>2</td>\n      <td>0</td>\n      <td>2</td>\n      <td>1</td>\n      <td>1</td>\n      <td>0</td>\n      <td>1</td>\n      <td>0</td>\n      <td>0</td>\n      <td>0</td>\n      <td>...</td>\n      <td>1</td>\n      <td>1</td>\n      <td>1</td>\n      <td>1</td>\n      <td>1</td>\n      <td>0</td>\n      <td>1</td>\n      <td>1</td>\n      <td>1</td>\n      <td>1</td>\n    </tr>\n    <tr>\n      <th>16162S</th>\n      <td>3</td>\n      <td>2</td>\n      <td>0</td>\n      <td>1</td>\n      <td>1</td>\n      <td>0</td>\n      <td>1</td>\n      <td>0</td>\n      <td>0</td>\n      <td>0</td>\n      <td>...</td>\n      <td>1</td>\n      <td>1</td>\n      <td>1</td>\n      <td>1</td>\n      <td>1</td>\n      <td>0</td>\n      <td>0</td>\n      <td>0</td>\n      <td>0</td>\n      <td>0</td>\n    </tr>\n    <tr>\n      <th>12162CB</th>\n      <td>1</td>\n      <td>1</td>\n      <td>1</td>\n      <td>0</td>\n      <td>1</td>\n      <td>0</td>\n      <td>0</td>\n      <td>0</td>\n      <td>1</td>\n      <td>0</td>\n      <td>...</td>\n      <td>0</td>\n      <td>0</td>\n      <td>0</td>\n      <td>0</td>\n      <td>0</td>\n      <td>0</td>\n      <td>0</td>\n      <td>0</td>\n      <td>0</td>\n      <td>0</td>\n    </tr>\n    <tr>\n      <th>5005-7</th>\n      <td>3</td>\n      <td>1</td>\n      <td>1</td>\n      <td>1</td>\n      <td>0</td>\n      <td>0</td>\n      <td>0</td>\n      <td>0</td>\n      <td>0</td>\n      <td>3</td>\n      <td>...</td>\n      <td>0</td>\n      <td>0</td>\n      <td>0</td>\n      <td>0</td>\n      <td>0</td>\n      <td>0</td>\n      <td>0</td>\n      <td>0</td>\n      <td>0</td>\n      <td>0</td>\n    </tr>\n    <tr>\n      <th>...</th>\n      <td>...</td>\n      <td>...</td>\n      <td>...</td>\n      <td>...</td>\n      <td>...</td>\n      <td>...</td>\n      <td>...</td>\n      <td>...</td>\n      <td>...</td>\n      <td>...</td>\n      <td>...</td>\n      <td>...</td>\n      <td>...</td>\n      <td>...</td>\n      <td>...</td>\n      <td>...</td>\n      <td>...</td>\n      <td>...</td>\n      <td>...</td>\n      <td>...</td>\n      <td>...</td>\n    </tr>\n    <tr>\n      <th>336XXL</th>\n      <td>0</td>\n      <td>0</td>\n      <td>0</td>\n      <td>0</td>\n      <td>0</td>\n      <td>0</td>\n      <td>0</td>\n      <td>0</td>\n      <td>0</td>\n      <td>0</td>\n      <td>...</td>\n      <td>0</td>\n      <td>0</td>\n      <td>0</td>\n      <td>0</td>\n      <td>0</td>\n      <td>0</td>\n      <td>0</td>\n      <td>0</td>\n      <td>0</td>\n      <td>0</td>\n    </tr>\n    <tr>\n      <th>51005</th>\n      <td>0</td>\n      <td>1</td>\n      <td>0</td>\n      <td>0</td>\n      <td>0</td>\n      <td>0</td>\n      <td>0</td>\n      <td>0</td>\n      <td>0</td>\n      <td>0</td>\n      <td>...</td>\n      <td>0</td>\n      <td>0</td>\n      <td>0</td>\n      <td>0</td>\n      <td>0</td>\n      <td>0</td>\n      <td>0</td>\n      <td>1</td>\n      <td>1</td>\n      <td>1</td>\n    </tr>\n    <tr>\n      <th>63026</th>\n      <td>0</td>\n      <td>1</td>\n      <td>0</td>\n      <td>0</td>\n      <td>0</td>\n      <td>0</td>\n      <td>0</td>\n      <td>0</td>\n      <td>0</td>\n      <td>0</td>\n      <td>...</td>\n      <td>0</td>\n      <td>0</td>\n      <td>0</td>\n      <td>0</td>\n      <td>0</td>\n      <td>0</td>\n      <td>1</td>\n      <td>0</td>\n      <td>1</td>\n      <td>1</td>\n    </tr>\n    <tr>\n      <th>88038</th>\n      <td>0</td>\n      <td>1</td>\n      <td>0</td>\n      <td>0</td>\n      <td>0</td>\n      <td>0</td>\n      <td>0</td>\n      <td>0</td>\n      <td>0</td>\n      <td>0</td>\n      <td>...</td>\n      <td>0</td>\n      <td>0</td>\n      <td>0</td>\n      <td>0</td>\n      <td>0</td>\n      <td>0</td>\n      <td>1</td>\n      <td>1</td>\n      <td>0</td>\n      <td>1</td>\n    </tr>\n    <tr>\n      <th>88045</th>\n      <td>0</td>\n      <td>1</td>\n      <td>0</td>\n      <td>0</td>\n      <td>0</td>\n      <td>0</td>\n      <td>0</td>\n      <td>0</td>\n      <td>0</td>\n      <td>0</td>\n      <td>...</td>\n      <td>0</td>\n      <td>0</td>\n      <td>0</td>\n      <td>0</td>\n      <td>0</td>\n      <td>0</td>\n      <td>1</td>\n      <td>1</td>\n      <td>1</td>\n      <td>0</td>\n    </tr>\n  </tbody>\n</table>\n<p>550 rows × 550 columns</p>\n</div>"
     },
     "execution_count": 117,
     "metadata": {},
     "output_type": "execute_result"
    }
   ],
   "source": [
    "orders = df_small.groupby('order')['prod'].apply(set)\n",
    "co_occurrence_matrix = pd.DataFrame(index=df_small['prod'].unique(), columns=df_small['prod'].unique()).fillna(0)\n",
    "\n",
    "for order_products in orders:\n",
    "    for product1 in order_products:\n",
    "        for product2 in order_products:\n",
    "            if product1 != product2:\n",
    "                co_occurrence_matrix.loc[product1, product2] += 1\n",
    "co_occurrence_matrix"
   ],
   "metadata": {
    "collapsed": false
   }
  },
  {
   "cell_type": "code",
   "execution_count": 118,
   "outputs": [
    {
     "data": {
      "text/plain": "             331l     64162    16162S   12162CB    5005-7  50099     50500  \\\n331l     1.000000  0.028986  0.021127  0.038462  0.125000    0.0  0.071429   \n64162    0.021978  1.000000  0.014085  0.038462  0.041667    0.0  0.071429   \n16162S   0.032967  0.028986  1.000000  0.038462  0.041667    0.0  0.071429   \n12162CB  0.010989  0.014493  0.007042  1.000000  0.041667    0.0  0.000000   \n5005-7   0.032967  0.014493  0.007042  0.038462  1.000000    0.0  0.000000   \n...           ...       ...       ...       ...       ...    ...       ...   \n336XXL   0.000000  0.000000  0.000000  0.000000  0.000000    0.0  0.000000   \n51005    0.000000  0.014493  0.000000  0.000000  0.000000    0.0  0.000000   \n63026    0.000000  0.014493  0.000000  0.000000  0.000000    0.0  0.000000   \n88038    0.000000  0.014493  0.000000  0.000000  0.000000    0.0  0.000000   \n88045    0.000000  0.014493  0.000000  0.000000  0.000000    0.0  0.000000   \n\n         8001  132082CP     37170  ...  18162crf  336XL  50109  50112  50121  \\\n331l      0.0  0.000000  0.035714  ...       1.0    1.0    1.0    1.0    1.0   \n64162     0.0  0.000000  0.000000  ...       1.0    1.0    1.0    1.0    1.0   \n16162S    0.0  0.000000  0.000000  ...       1.0    1.0    1.0    1.0    1.0   \n12162CB   0.0  0.028571  0.000000  ...       0.0    0.0    0.0    0.0    0.0   \n5005-7    0.0  0.000000  0.107143  ...       0.0    0.0    0.0    0.0    0.0   \n...       ...       ...       ...  ...       ...    ...    ...    ...    ...   \n336XXL    0.0  0.000000  0.000000  ...       0.0    0.0    0.0    0.0    0.0   \n51005     0.0  0.000000  0.000000  ...       0.0    0.0    0.0    0.0    0.0   \n63026     0.0  0.000000  0.000000  ...       0.0    0.0    0.0    0.0    0.0   \n88038     0.0  0.000000  0.000000  ...       0.0    0.0    0.0    0.0    0.0   \n88045     0.0  0.000000  0.000000  ...       0.0    0.0    0.0    0.0    0.0   \n\n         336XXL     51005  63026  88038  88045  \n331l        0.0  0.000000    0.0    0.0    0.0  \n64162       0.0  0.090909    1.0    1.0    1.0  \n16162S      0.0  0.000000    0.0    0.0    0.0  \n12162CB     0.0  0.000000    0.0    0.0    0.0  \n5005-7      0.0  0.000000    0.0    0.0    0.0  \n...         ...       ...    ...    ...    ...  \n336XXL      1.0  0.000000    0.0    0.0    0.0  \n51005       0.0  1.000000    1.0    1.0    1.0  \n63026       0.0  0.090909    1.0    1.0    1.0  \n88038       0.0  0.090909    1.0    1.0    1.0  \n88045       0.0  0.090909    1.0    1.0    1.0  \n\n[550 rows x 550 columns]",
      "text/html": "<div>\n<style scoped>\n    .dataframe tbody tr th:only-of-type {\n        vertical-align: middle;\n    }\n\n    .dataframe tbody tr th {\n        vertical-align: top;\n    }\n\n    .dataframe thead th {\n        text-align: right;\n    }\n</style>\n<table border=\"1\" class=\"dataframe\">\n  <thead>\n    <tr style=\"text-align: right;\">\n      <th></th>\n      <th>331l</th>\n      <th>64162</th>\n      <th>16162S</th>\n      <th>12162CB</th>\n      <th>5005-7</th>\n      <th>50099</th>\n      <th>50500</th>\n      <th>8001</th>\n      <th>132082CP</th>\n      <th>37170</th>\n      <th>...</th>\n      <th>18162crf</th>\n      <th>336XL</th>\n      <th>50109</th>\n      <th>50112</th>\n      <th>50121</th>\n      <th>336XXL</th>\n      <th>51005</th>\n      <th>63026</th>\n      <th>88038</th>\n      <th>88045</th>\n    </tr>\n  </thead>\n  <tbody>\n    <tr>\n      <th>331l</th>\n      <td>1.000000</td>\n      <td>0.028986</td>\n      <td>0.021127</td>\n      <td>0.038462</td>\n      <td>0.125000</td>\n      <td>0.0</td>\n      <td>0.071429</td>\n      <td>0.0</td>\n      <td>0.000000</td>\n      <td>0.035714</td>\n      <td>...</td>\n      <td>1.0</td>\n      <td>1.0</td>\n      <td>1.0</td>\n      <td>1.0</td>\n      <td>1.0</td>\n      <td>0.0</td>\n      <td>0.000000</td>\n      <td>0.0</td>\n      <td>0.0</td>\n      <td>0.0</td>\n    </tr>\n    <tr>\n      <th>64162</th>\n      <td>0.021978</td>\n      <td>1.000000</td>\n      <td>0.014085</td>\n      <td>0.038462</td>\n      <td>0.041667</td>\n      <td>0.0</td>\n      <td>0.071429</td>\n      <td>0.0</td>\n      <td>0.000000</td>\n      <td>0.000000</td>\n      <td>...</td>\n      <td>1.0</td>\n      <td>1.0</td>\n      <td>1.0</td>\n      <td>1.0</td>\n      <td>1.0</td>\n      <td>0.0</td>\n      <td>0.090909</td>\n      <td>1.0</td>\n      <td>1.0</td>\n      <td>1.0</td>\n    </tr>\n    <tr>\n      <th>16162S</th>\n      <td>0.032967</td>\n      <td>0.028986</td>\n      <td>1.000000</td>\n      <td>0.038462</td>\n      <td>0.041667</td>\n      <td>0.0</td>\n      <td>0.071429</td>\n      <td>0.0</td>\n      <td>0.000000</td>\n      <td>0.000000</td>\n      <td>...</td>\n      <td>1.0</td>\n      <td>1.0</td>\n      <td>1.0</td>\n      <td>1.0</td>\n      <td>1.0</td>\n      <td>0.0</td>\n      <td>0.000000</td>\n      <td>0.0</td>\n      <td>0.0</td>\n      <td>0.0</td>\n    </tr>\n    <tr>\n      <th>12162CB</th>\n      <td>0.010989</td>\n      <td>0.014493</td>\n      <td>0.007042</td>\n      <td>1.000000</td>\n      <td>0.041667</td>\n      <td>0.0</td>\n      <td>0.000000</td>\n      <td>0.0</td>\n      <td>0.028571</td>\n      <td>0.000000</td>\n      <td>...</td>\n      <td>0.0</td>\n      <td>0.0</td>\n      <td>0.0</td>\n      <td>0.0</td>\n      <td>0.0</td>\n      <td>0.0</td>\n      <td>0.000000</td>\n      <td>0.0</td>\n      <td>0.0</td>\n      <td>0.0</td>\n    </tr>\n    <tr>\n      <th>5005-7</th>\n      <td>0.032967</td>\n      <td>0.014493</td>\n      <td>0.007042</td>\n      <td>0.038462</td>\n      <td>1.000000</td>\n      <td>0.0</td>\n      <td>0.000000</td>\n      <td>0.0</td>\n      <td>0.000000</td>\n      <td>0.107143</td>\n      <td>...</td>\n      <td>0.0</td>\n      <td>0.0</td>\n      <td>0.0</td>\n      <td>0.0</td>\n      <td>0.0</td>\n      <td>0.0</td>\n      <td>0.000000</td>\n      <td>0.0</td>\n      <td>0.0</td>\n      <td>0.0</td>\n    </tr>\n    <tr>\n      <th>...</th>\n      <td>...</td>\n      <td>...</td>\n      <td>...</td>\n      <td>...</td>\n      <td>...</td>\n      <td>...</td>\n      <td>...</td>\n      <td>...</td>\n      <td>...</td>\n      <td>...</td>\n      <td>...</td>\n      <td>...</td>\n      <td>...</td>\n      <td>...</td>\n      <td>...</td>\n      <td>...</td>\n      <td>...</td>\n      <td>...</td>\n      <td>...</td>\n      <td>...</td>\n      <td>...</td>\n    </tr>\n    <tr>\n      <th>336XXL</th>\n      <td>0.000000</td>\n      <td>0.000000</td>\n      <td>0.000000</td>\n      <td>0.000000</td>\n      <td>0.000000</td>\n      <td>0.0</td>\n      <td>0.000000</td>\n      <td>0.0</td>\n      <td>0.000000</td>\n      <td>0.000000</td>\n      <td>...</td>\n      <td>0.0</td>\n      <td>0.0</td>\n      <td>0.0</td>\n      <td>0.0</td>\n      <td>0.0</td>\n      <td>1.0</td>\n      <td>0.000000</td>\n      <td>0.0</td>\n      <td>0.0</td>\n      <td>0.0</td>\n    </tr>\n    <tr>\n      <th>51005</th>\n      <td>0.000000</td>\n      <td>0.014493</td>\n      <td>0.000000</td>\n      <td>0.000000</td>\n      <td>0.000000</td>\n      <td>0.0</td>\n      <td>0.000000</td>\n      <td>0.0</td>\n      <td>0.000000</td>\n      <td>0.000000</td>\n      <td>...</td>\n      <td>0.0</td>\n      <td>0.0</td>\n      <td>0.0</td>\n      <td>0.0</td>\n      <td>0.0</td>\n      <td>0.0</td>\n      <td>1.000000</td>\n      <td>1.0</td>\n      <td>1.0</td>\n      <td>1.0</td>\n    </tr>\n    <tr>\n      <th>63026</th>\n      <td>0.000000</td>\n      <td>0.014493</td>\n      <td>0.000000</td>\n      <td>0.000000</td>\n      <td>0.000000</td>\n      <td>0.0</td>\n      <td>0.000000</td>\n      <td>0.0</td>\n      <td>0.000000</td>\n      <td>0.000000</td>\n      <td>...</td>\n      <td>0.0</td>\n      <td>0.0</td>\n      <td>0.0</td>\n      <td>0.0</td>\n      <td>0.0</td>\n      <td>0.0</td>\n      <td>0.090909</td>\n      <td>1.0</td>\n      <td>1.0</td>\n      <td>1.0</td>\n    </tr>\n    <tr>\n      <th>88038</th>\n      <td>0.000000</td>\n      <td>0.014493</td>\n      <td>0.000000</td>\n      <td>0.000000</td>\n      <td>0.000000</td>\n      <td>0.0</td>\n      <td>0.000000</td>\n      <td>0.0</td>\n      <td>0.000000</td>\n      <td>0.000000</td>\n      <td>...</td>\n      <td>0.0</td>\n      <td>0.0</td>\n      <td>0.0</td>\n      <td>0.0</td>\n      <td>0.0</td>\n      <td>0.0</td>\n      <td>0.090909</td>\n      <td>1.0</td>\n      <td>1.0</td>\n      <td>1.0</td>\n    </tr>\n    <tr>\n      <th>88045</th>\n      <td>0.000000</td>\n      <td>0.014493</td>\n      <td>0.000000</td>\n      <td>0.000000</td>\n      <td>0.000000</td>\n      <td>0.0</td>\n      <td>0.000000</td>\n      <td>0.0</td>\n      <td>0.000000</td>\n      <td>0.000000</td>\n      <td>...</td>\n      <td>0.0</td>\n      <td>0.0</td>\n      <td>0.0</td>\n      <td>0.0</td>\n      <td>0.0</td>\n      <td>0.0</td>\n      <td>0.090909</td>\n      <td>1.0</td>\n      <td>1.0</td>\n      <td>1.0</td>\n    </tr>\n  </tbody>\n</table>\n<p>550 rows × 550 columns</p>\n</div>"
     },
     "execution_count": 118,
     "metadata": {},
     "output_type": "execute_result"
    }
   ],
   "source": [
    "product_counts = df_small.groupby('prod').count().order\n",
    "product_counts = product_counts.reindex(co_occurrence_matrix.index)\n",
    "scaled_matrix = co_occurrence_matrix / product_counts\n",
    "np.fill_diagonal(scaled_matrix.values, 1)\n",
    "scaled_matrix"
   ],
   "metadata": {
    "collapsed": false
   }
  },
  {
   "cell_type": "code",
   "execution_count": 119,
   "outputs": [
    {
     "data": {
      "text/plain": "         331l  64162  16162S  12162CB  5005-7  50099  50500  8001  132082CP  \\\n331l        0      9      11        2       9      4      4     1         1   \n64162       9      0       5        2       4      1      4     1         1   \n16162S     11      5       0        1       2      3      2     1         1   \n12162CB     2      2       1        0       2      1      1     1         1   \n5005-7      9      4       2        2       0      1      1     1         1   \n...       ...    ...     ...      ...     ...    ...    ...   ...       ...   \n336XXL      1      1       1        0       0      0      1     0         0   \n51005       1      1       1        0       0      0      1     0         0   \n63026       1      1       1        0       0      0      1     0         0   \n88038       1      1       1        0       0      0      1     0         0   \n88045       1      1       1        0       0      0      1     0         0   \n\n         37170  ...  18162crf  336XL  50109  50112  50121  336XXL  51005  \\\n331l         5  ...         1      1      1      1      1       1      1   \n64162        5  ...         1      1      1      1      1       1      1   \n16162S       3  ...         1      1      1      1      1       1      1   \n12162CB      2  ...         0      0      0      0      0       0      0   \n5005-7       2  ...         0      0      0      0      0       0      0   \n...        ...  ...       ...    ...    ...    ...    ...     ...    ...   \n336XXL       0  ...         1      1      1      1      1       0      1   \n51005        0  ...         1      1      1      1      1       1      0   \n63026        0  ...         1      1      1      1      1       1      1   \n88038        0  ...         1      1      1      1      1       1      1   \n88045        0  ...         1      1      1      1      1       1      1   \n\n         63026  88038  88045  \n331l         1      1      1  \n64162        1      1      1  \n16162S       1      1      1  \n12162CB      0      0      0  \n5005-7       0      0      0  \n...        ...    ...    ...  \n336XXL       1      1      1  \n51005        1      1      1  \n63026        0      1      1  \n88038        1      0      1  \n88045        1      1      0  \n\n[550 rows x 550 columns]",
      "text/html": "<div>\n<style scoped>\n    .dataframe tbody tr th:only-of-type {\n        vertical-align: middle;\n    }\n\n    .dataframe tbody tr th {\n        vertical-align: top;\n    }\n\n    .dataframe thead th {\n        text-align: right;\n    }\n</style>\n<table border=\"1\" class=\"dataframe\">\n  <thead>\n    <tr style=\"text-align: right;\">\n      <th></th>\n      <th>331l</th>\n      <th>64162</th>\n      <th>16162S</th>\n      <th>12162CB</th>\n      <th>5005-7</th>\n      <th>50099</th>\n      <th>50500</th>\n      <th>8001</th>\n      <th>132082CP</th>\n      <th>37170</th>\n      <th>...</th>\n      <th>18162crf</th>\n      <th>336XL</th>\n      <th>50109</th>\n      <th>50112</th>\n      <th>50121</th>\n      <th>336XXL</th>\n      <th>51005</th>\n      <th>63026</th>\n      <th>88038</th>\n      <th>88045</th>\n    </tr>\n  </thead>\n  <tbody>\n    <tr>\n      <th>331l</th>\n      <td>0</td>\n      <td>9</td>\n      <td>11</td>\n      <td>2</td>\n      <td>9</td>\n      <td>4</td>\n      <td>4</td>\n      <td>1</td>\n      <td>1</td>\n      <td>5</td>\n      <td>...</td>\n      <td>1</td>\n      <td>1</td>\n      <td>1</td>\n      <td>1</td>\n      <td>1</td>\n      <td>1</td>\n      <td>1</td>\n      <td>1</td>\n      <td>1</td>\n      <td>1</td>\n    </tr>\n    <tr>\n      <th>64162</th>\n      <td>9</td>\n      <td>0</td>\n      <td>5</td>\n      <td>2</td>\n      <td>4</td>\n      <td>1</td>\n      <td>4</td>\n      <td>1</td>\n      <td>1</td>\n      <td>5</td>\n      <td>...</td>\n      <td>1</td>\n      <td>1</td>\n      <td>1</td>\n      <td>1</td>\n      <td>1</td>\n      <td>1</td>\n      <td>1</td>\n      <td>1</td>\n      <td>1</td>\n      <td>1</td>\n    </tr>\n    <tr>\n      <th>16162S</th>\n      <td>11</td>\n      <td>5</td>\n      <td>0</td>\n      <td>1</td>\n      <td>2</td>\n      <td>3</td>\n      <td>2</td>\n      <td>1</td>\n      <td>1</td>\n      <td>3</td>\n      <td>...</td>\n      <td>1</td>\n      <td>1</td>\n      <td>1</td>\n      <td>1</td>\n      <td>1</td>\n      <td>1</td>\n      <td>1</td>\n      <td>1</td>\n      <td>1</td>\n      <td>1</td>\n    </tr>\n    <tr>\n      <th>12162CB</th>\n      <td>2</td>\n      <td>2</td>\n      <td>1</td>\n      <td>0</td>\n      <td>2</td>\n      <td>1</td>\n      <td>1</td>\n      <td>1</td>\n      <td>1</td>\n      <td>2</td>\n      <td>...</td>\n      <td>0</td>\n      <td>0</td>\n      <td>0</td>\n      <td>0</td>\n      <td>0</td>\n      <td>0</td>\n      <td>0</td>\n      <td>0</td>\n      <td>0</td>\n      <td>0</td>\n    </tr>\n    <tr>\n      <th>5005-7</th>\n      <td>9</td>\n      <td>4</td>\n      <td>2</td>\n      <td>2</td>\n      <td>0</td>\n      <td>1</td>\n      <td>1</td>\n      <td>1</td>\n      <td>1</td>\n      <td>2</td>\n      <td>...</td>\n      <td>0</td>\n      <td>0</td>\n      <td>0</td>\n      <td>0</td>\n      <td>0</td>\n      <td>0</td>\n      <td>0</td>\n      <td>0</td>\n      <td>0</td>\n      <td>0</td>\n    </tr>\n    <tr>\n      <th>...</th>\n      <td>...</td>\n      <td>...</td>\n      <td>...</td>\n      <td>...</td>\n      <td>...</td>\n      <td>...</td>\n      <td>...</td>\n      <td>...</td>\n      <td>...</td>\n      <td>...</td>\n      <td>...</td>\n      <td>...</td>\n      <td>...</td>\n      <td>...</td>\n      <td>...</td>\n      <td>...</td>\n      <td>...</td>\n      <td>...</td>\n      <td>...</td>\n      <td>...</td>\n      <td>...</td>\n    </tr>\n    <tr>\n      <th>336XXL</th>\n      <td>1</td>\n      <td>1</td>\n      <td>1</td>\n      <td>0</td>\n      <td>0</td>\n      <td>0</td>\n      <td>1</td>\n      <td>0</td>\n      <td>0</td>\n      <td>0</td>\n      <td>...</td>\n      <td>1</td>\n      <td>1</td>\n      <td>1</td>\n      <td>1</td>\n      <td>1</td>\n      <td>0</td>\n      <td>1</td>\n      <td>1</td>\n      <td>1</td>\n      <td>1</td>\n    </tr>\n    <tr>\n      <th>51005</th>\n      <td>1</td>\n      <td>1</td>\n      <td>1</td>\n      <td>0</td>\n      <td>0</td>\n      <td>0</td>\n      <td>1</td>\n      <td>0</td>\n      <td>0</td>\n      <td>0</td>\n      <td>...</td>\n      <td>1</td>\n      <td>1</td>\n      <td>1</td>\n      <td>1</td>\n      <td>1</td>\n      <td>1</td>\n      <td>0</td>\n      <td>1</td>\n      <td>1</td>\n      <td>1</td>\n    </tr>\n    <tr>\n      <th>63026</th>\n      <td>1</td>\n      <td>1</td>\n      <td>1</td>\n      <td>0</td>\n      <td>0</td>\n      <td>0</td>\n      <td>1</td>\n      <td>0</td>\n      <td>0</td>\n      <td>0</td>\n      <td>...</td>\n      <td>1</td>\n      <td>1</td>\n      <td>1</td>\n      <td>1</td>\n      <td>1</td>\n      <td>1</td>\n      <td>1</td>\n      <td>0</td>\n      <td>1</td>\n      <td>1</td>\n    </tr>\n    <tr>\n      <th>88038</th>\n      <td>1</td>\n      <td>1</td>\n      <td>1</td>\n      <td>0</td>\n      <td>0</td>\n      <td>0</td>\n      <td>1</td>\n      <td>0</td>\n      <td>0</td>\n      <td>0</td>\n      <td>...</td>\n      <td>1</td>\n      <td>1</td>\n      <td>1</td>\n      <td>1</td>\n      <td>1</td>\n      <td>1</td>\n      <td>1</td>\n      <td>1</td>\n      <td>0</td>\n      <td>1</td>\n    </tr>\n    <tr>\n      <th>88045</th>\n      <td>1</td>\n      <td>1</td>\n      <td>1</td>\n      <td>0</td>\n      <td>0</td>\n      <td>0</td>\n      <td>1</td>\n      <td>0</td>\n      <td>0</td>\n      <td>0</td>\n      <td>...</td>\n      <td>1</td>\n      <td>1</td>\n      <td>1</td>\n      <td>1</td>\n      <td>1</td>\n      <td>1</td>\n      <td>1</td>\n      <td>1</td>\n      <td>1</td>\n      <td>0</td>\n    </tr>\n  </tbody>\n</table>\n<p>550 rows × 550 columns</p>\n</div>"
     },
     "execution_count": 119,
     "metadata": {},
     "output_type": "execute_result"
    }
   ],
   "source": [
    "daily_products = df_small.groupby('collect')['prod'].apply(set)\n",
    "co_occurrence_matrix_date = pd.DataFrame(index=df_small['prod'].unique(), columns=df_small['prod'].unique()).fillna(0)\n",
    "\n",
    "for products_on_date in daily_products:\n",
    "    for product1 in products_on_date:\n",
    "        for product2 in products_on_date:\n",
    "            if product1 != product2:\n",
    "                co_occurrence_matrix_date.loc[product1, product2] += 1\n",
    "co_occurrence_matrix_date"
   ],
   "metadata": {
    "collapsed": false
   }
  },
  {
   "cell_type": "code",
   "execution_count": 120,
   "outputs": [
    {
     "data": {
      "text/plain": "             331l     64162    16162S   12162CB    5005-7     50099     50500  \\\n331l     1.000000  0.130435  0.077465  0.076923  0.375000  0.333333  0.285714   \n64162    0.098901  1.000000  0.035211  0.076923  0.166667  0.083333  0.285714   \n16162S   0.120879  0.072464  1.000000  0.038462  0.083333  0.250000  0.142857   \n12162CB  0.021978  0.028986  0.007042  1.000000  0.083333  0.083333  0.071429   \n5005-7   0.098901  0.057971  0.014085  0.076923  1.000000  0.083333  0.071429   \n...           ...       ...       ...       ...       ...       ...       ...   \n336XXL   0.010989  0.014493  0.007042  0.000000  0.000000  0.000000  0.071429   \n51005    0.010989  0.014493  0.007042  0.000000  0.000000  0.000000  0.071429   \n63026    0.010989  0.014493  0.007042  0.000000  0.000000  0.000000  0.071429   \n88038    0.010989  0.014493  0.007042  0.000000  0.000000  0.000000  0.071429   \n88045    0.010989  0.014493  0.007042  0.000000  0.000000  0.000000  0.071429   \n\n         8001  132082CP     37170  ...  18162crf  336XL  50109  50112  50121  \\\n331l      1.0  0.028571  0.178571  ...       1.0    1.0    1.0    1.0    1.0   \n64162     1.0  0.028571  0.178571  ...       1.0    1.0    1.0    1.0    1.0   \n16162S    1.0  0.028571  0.107143  ...       1.0    1.0    1.0    1.0    1.0   \n12162CB   1.0  0.028571  0.071429  ...       0.0    0.0    0.0    0.0    0.0   \n5005-7    1.0  0.028571  0.071429  ...       0.0    0.0    0.0    0.0    0.0   \n...       ...       ...       ...  ...       ...    ...    ...    ...    ...   \n336XXL    0.0  0.000000  0.000000  ...       1.0    1.0    1.0    1.0    1.0   \n51005     0.0  0.000000  0.000000  ...       1.0    1.0    1.0    1.0    1.0   \n63026     0.0  0.000000  0.000000  ...       1.0    1.0    1.0    1.0    1.0   \n88038     0.0  0.000000  0.000000  ...       1.0    1.0    1.0    1.0    1.0   \n88045     0.0  0.000000  0.000000  ...       1.0    1.0    1.0    1.0    1.0   \n\n         336XXL     51005  63026  88038  88045  \n331l        1.0  0.090909    1.0    1.0    1.0  \n64162       1.0  0.090909    1.0    1.0    1.0  \n16162S      1.0  0.090909    1.0    1.0    1.0  \n12162CB     0.0  0.000000    0.0    0.0    0.0  \n5005-7      0.0  0.000000    0.0    0.0    0.0  \n...         ...       ...    ...    ...    ...  \n336XXL      1.0  0.090909    1.0    1.0    1.0  \n51005       1.0  1.000000    1.0    1.0    1.0  \n63026       1.0  0.090909    1.0    1.0    1.0  \n88038       1.0  0.090909    1.0    1.0    1.0  \n88045       1.0  0.090909    1.0    1.0    1.0  \n\n[550 rows x 550 columns]",
      "text/html": "<div>\n<style scoped>\n    .dataframe tbody tr th:only-of-type {\n        vertical-align: middle;\n    }\n\n    .dataframe tbody tr th {\n        vertical-align: top;\n    }\n\n    .dataframe thead th {\n        text-align: right;\n    }\n</style>\n<table border=\"1\" class=\"dataframe\">\n  <thead>\n    <tr style=\"text-align: right;\">\n      <th></th>\n      <th>331l</th>\n      <th>64162</th>\n      <th>16162S</th>\n      <th>12162CB</th>\n      <th>5005-7</th>\n      <th>50099</th>\n      <th>50500</th>\n      <th>8001</th>\n      <th>132082CP</th>\n      <th>37170</th>\n      <th>...</th>\n      <th>18162crf</th>\n      <th>336XL</th>\n      <th>50109</th>\n      <th>50112</th>\n      <th>50121</th>\n      <th>336XXL</th>\n      <th>51005</th>\n      <th>63026</th>\n      <th>88038</th>\n      <th>88045</th>\n    </tr>\n  </thead>\n  <tbody>\n    <tr>\n      <th>331l</th>\n      <td>1.000000</td>\n      <td>0.130435</td>\n      <td>0.077465</td>\n      <td>0.076923</td>\n      <td>0.375000</td>\n      <td>0.333333</td>\n      <td>0.285714</td>\n      <td>1.0</td>\n      <td>0.028571</td>\n      <td>0.178571</td>\n      <td>...</td>\n      <td>1.0</td>\n      <td>1.0</td>\n      <td>1.0</td>\n      <td>1.0</td>\n      <td>1.0</td>\n      <td>1.0</td>\n      <td>0.090909</td>\n      <td>1.0</td>\n      <td>1.0</td>\n      <td>1.0</td>\n    </tr>\n    <tr>\n      <th>64162</th>\n      <td>0.098901</td>\n      <td>1.000000</td>\n      <td>0.035211</td>\n      <td>0.076923</td>\n      <td>0.166667</td>\n      <td>0.083333</td>\n      <td>0.285714</td>\n      <td>1.0</td>\n      <td>0.028571</td>\n      <td>0.178571</td>\n      <td>...</td>\n      <td>1.0</td>\n      <td>1.0</td>\n      <td>1.0</td>\n      <td>1.0</td>\n      <td>1.0</td>\n      <td>1.0</td>\n      <td>0.090909</td>\n      <td>1.0</td>\n      <td>1.0</td>\n      <td>1.0</td>\n    </tr>\n    <tr>\n      <th>16162S</th>\n      <td>0.120879</td>\n      <td>0.072464</td>\n      <td>1.000000</td>\n      <td>0.038462</td>\n      <td>0.083333</td>\n      <td>0.250000</td>\n      <td>0.142857</td>\n      <td>1.0</td>\n      <td>0.028571</td>\n      <td>0.107143</td>\n      <td>...</td>\n      <td>1.0</td>\n      <td>1.0</td>\n      <td>1.0</td>\n      <td>1.0</td>\n      <td>1.0</td>\n      <td>1.0</td>\n      <td>0.090909</td>\n      <td>1.0</td>\n      <td>1.0</td>\n      <td>1.0</td>\n    </tr>\n    <tr>\n      <th>12162CB</th>\n      <td>0.021978</td>\n      <td>0.028986</td>\n      <td>0.007042</td>\n      <td>1.000000</td>\n      <td>0.083333</td>\n      <td>0.083333</td>\n      <td>0.071429</td>\n      <td>1.0</td>\n      <td>0.028571</td>\n      <td>0.071429</td>\n      <td>...</td>\n      <td>0.0</td>\n      <td>0.0</td>\n      <td>0.0</td>\n      <td>0.0</td>\n      <td>0.0</td>\n      <td>0.0</td>\n      <td>0.000000</td>\n      <td>0.0</td>\n      <td>0.0</td>\n      <td>0.0</td>\n    </tr>\n    <tr>\n      <th>5005-7</th>\n      <td>0.098901</td>\n      <td>0.057971</td>\n      <td>0.014085</td>\n      <td>0.076923</td>\n      <td>1.000000</td>\n      <td>0.083333</td>\n      <td>0.071429</td>\n      <td>1.0</td>\n      <td>0.028571</td>\n      <td>0.071429</td>\n      <td>...</td>\n      <td>0.0</td>\n      <td>0.0</td>\n      <td>0.0</td>\n      <td>0.0</td>\n      <td>0.0</td>\n      <td>0.0</td>\n      <td>0.000000</td>\n      <td>0.0</td>\n      <td>0.0</td>\n      <td>0.0</td>\n    </tr>\n    <tr>\n      <th>...</th>\n      <td>...</td>\n      <td>...</td>\n      <td>...</td>\n      <td>...</td>\n      <td>...</td>\n      <td>...</td>\n      <td>...</td>\n      <td>...</td>\n      <td>...</td>\n      <td>...</td>\n      <td>...</td>\n      <td>...</td>\n      <td>...</td>\n      <td>...</td>\n      <td>...</td>\n      <td>...</td>\n      <td>...</td>\n      <td>...</td>\n      <td>...</td>\n      <td>...</td>\n      <td>...</td>\n    </tr>\n    <tr>\n      <th>336XXL</th>\n      <td>0.010989</td>\n      <td>0.014493</td>\n      <td>0.007042</td>\n      <td>0.000000</td>\n      <td>0.000000</td>\n      <td>0.000000</td>\n      <td>0.071429</td>\n      <td>0.0</td>\n      <td>0.000000</td>\n      <td>0.000000</td>\n      <td>...</td>\n      <td>1.0</td>\n      <td>1.0</td>\n      <td>1.0</td>\n      <td>1.0</td>\n      <td>1.0</td>\n      <td>1.0</td>\n      <td>0.090909</td>\n      <td>1.0</td>\n      <td>1.0</td>\n      <td>1.0</td>\n    </tr>\n    <tr>\n      <th>51005</th>\n      <td>0.010989</td>\n      <td>0.014493</td>\n      <td>0.007042</td>\n      <td>0.000000</td>\n      <td>0.000000</td>\n      <td>0.000000</td>\n      <td>0.071429</td>\n      <td>0.0</td>\n      <td>0.000000</td>\n      <td>0.000000</td>\n      <td>...</td>\n      <td>1.0</td>\n      <td>1.0</td>\n      <td>1.0</td>\n      <td>1.0</td>\n      <td>1.0</td>\n      <td>1.0</td>\n      <td>1.000000</td>\n      <td>1.0</td>\n      <td>1.0</td>\n      <td>1.0</td>\n    </tr>\n    <tr>\n      <th>63026</th>\n      <td>0.010989</td>\n      <td>0.014493</td>\n      <td>0.007042</td>\n      <td>0.000000</td>\n      <td>0.000000</td>\n      <td>0.000000</td>\n      <td>0.071429</td>\n      <td>0.0</td>\n      <td>0.000000</td>\n      <td>0.000000</td>\n      <td>...</td>\n      <td>1.0</td>\n      <td>1.0</td>\n      <td>1.0</td>\n      <td>1.0</td>\n      <td>1.0</td>\n      <td>1.0</td>\n      <td>0.090909</td>\n      <td>1.0</td>\n      <td>1.0</td>\n      <td>1.0</td>\n    </tr>\n    <tr>\n      <th>88038</th>\n      <td>0.010989</td>\n      <td>0.014493</td>\n      <td>0.007042</td>\n      <td>0.000000</td>\n      <td>0.000000</td>\n      <td>0.000000</td>\n      <td>0.071429</td>\n      <td>0.0</td>\n      <td>0.000000</td>\n      <td>0.000000</td>\n      <td>...</td>\n      <td>1.0</td>\n      <td>1.0</td>\n      <td>1.0</td>\n      <td>1.0</td>\n      <td>1.0</td>\n      <td>1.0</td>\n      <td>0.090909</td>\n      <td>1.0</td>\n      <td>1.0</td>\n      <td>1.0</td>\n    </tr>\n    <tr>\n      <th>88045</th>\n      <td>0.010989</td>\n      <td>0.014493</td>\n      <td>0.007042</td>\n      <td>0.000000</td>\n      <td>0.000000</td>\n      <td>0.000000</td>\n      <td>0.071429</td>\n      <td>0.0</td>\n      <td>0.000000</td>\n      <td>0.000000</td>\n      <td>...</td>\n      <td>1.0</td>\n      <td>1.0</td>\n      <td>1.0</td>\n      <td>1.0</td>\n      <td>1.0</td>\n      <td>1.0</td>\n      <td>0.090909</td>\n      <td>1.0</td>\n      <td>1.0</td>\n      <td>1.0</td>\n    </tr>\n  </tbody>\n</table>\n<p>550 rows × 550 columns</p>\n</div>"
     },
     "execution_count": 120,
     "metadata": {},
     "output_type": "execute_result"
    }
   ],
   "source": [
    "product_counts_date = df_small.groupby('prod').count().collect\n",
    "product_counts_date = product_counts_date.reindex(co_occurrence_matrix_date.index)\n",
    "scaled_matrix_date = co_occurrence_matrix_date / product_counts_date\n",
    "np.fill_diagonal(scaled_matrix_date.values, 1)\n",
    "scaled_matrix_date"
   ],
   "metadata": {
    "collapsed": false
   }
  },
  {
   "cell_type": "code",
   "execution_count": 121,
   "outputs": [
    {
     "data": {
      "text/plain": "             331l     64162    16162S   12162CB    5005-7     50099     50500  \\\n331l     1.000000  0.039130  0.026761  0.042308  0.150000  0.033333  0.092857   \n64162    0.029670  1.000000  0.016197  0.042308  0.054167  0.008333  0.092857   \n16162S   0.041758  0.033333  1.000000  0.038462  0.045833  0.025000  0.078571   \n12162CB  0.012088  0.015942  0.007042  1.000000  0.045833  0.008333  0.007143   \n5005-7   0.039560  0.018841  0.007746  0.042308  1.000000  0.008333  0.007143   \n...           ...       ...       ...       ...       ...       ...       ...   \n336XXL   0.001099  0.001449  0.000704  0.000000  0.000000  0.000000  0.007143   \n51005    0.001099  0.014493  0.000704  0.000000  0.000000  0.000000  0.007143   \n63026    0.001099  0.014493  0.000704  0.000000  0.000000  0.000000  0.007143   \n88038    0.001099  0.014493  0.000704  0.000000  0.000000  0.000000  0.007143   \n88045    0.001099  0.014493  0.000704  0.000000  0.000000  0.000000  0.007143   \n\n         8001  132082CP     37170  ...  18162crf  336XL  50109  50112  50121  \\\n331l      0.1  0.002857  0.050000  ...       1.0    1.0    1.0    1.0    1.0   \n64162     0.1  0.002857  0.017857  ...       1.0    1.0    1.0    1.0    1.0   \n16162S    0.1  0.002857  0.010714  ...       1.0    1.0    1.0    1.0    1.0   \n12162CB   0.1  0.028571  0.007143  ...       0.0    0.0    0.0    0.0    0.0   \n5005-7    0.1  0.002857  0.103571  ...       0.0    0.0    0.0    0.0    0.0   \n...       ...       ...       ...  ...       ...    ...    ...    ...    ...   \n336XXL    0.0  0.000000  0.000000  ...       0.1    0.1    0.1    0.1    0.1   \n51005     0.0  0.000000  0.000000  ...       0.1    0.1    0.1    0.1    0.1   \n63026     0.0  0.000000  0.000000  ...       0.1    0.1    0.1    0.1    0.1   \n88038     0.0  0.000000  0.000000  ...       0.1    0.1    0.1    0.1    0.1   \n88045     0.0  0.000000  0.000000  ...       0.1    0.1    0.1    0.1    0.1   \n\n         336XXL     51005  63026  88038  88045  \n331l        0.1  0.009091    0.1    0.1    0.1  \n64162       0.1  0.090909    1.0    1.0    1.0  \n16162S      0.1  0.009091    0.1    0.1    0.1  \n12162CB     0.0  0.000000    0.0    0.0    0.0  \n5005-7      0.0  0.000000    0.0    0.0    0.0  \n...         ...       ...    ...    ...    ...  \n336XXL      1.0  0.009091    0.1    0.1    0.1  \n51005       0.1  1.000000    1.0    1.0    1.0  \n63026       0.1  0.090909    1.0    1.0    1.0  \n88038       0.1  0.090909    1.0    1.0    1.0  \n88045       0.1  0.090909    1.0    1.0    1.0  \n\n[550 rows x 550 columns]",
      "text/html": "<div>\n<style scoped>\n    .dataframe tbody tr th:only-of-type {\n        vertical-align: middle;\n    }\n\n    .dataframe tbody tr th {\n        vertical-align: top;\n    }\n\n    .dataframe thead th {\n        text-align: right;\n    }\n</style>\n<table border=\"1\" class=\"dataframe\">\n  <thead>\n    <tr style=\"text-align: right;\">\n      <th></th>\n      <th>331l</th>\n      <th>64162</th>\n      <th>16162S</th>\n      <th>12162CB</th>\n      <th>5005-7</th>\n      <th>50099</th>\n      <th>50500</th>\n      <th>8001</th>\n      <th>132082CP</th>\n      <th>37170</th>\n      <th>...</th>\n      <th>18162crf</th>\n      <th>336XL</th>\n      <th>50109</th>\n      <th>50112</th>\n      <th>50121</th>\n      <th>336XXL</th>\n      <th>51005</th>\n      <th>63026</th>\n      <th>88038</th>\n      <th>88045</th>\n    </tr>\n  </thead>\n  <tbody>\n    <tr>\n      <th>331l</th>\n      <td>1.000000</td>\n      <td>0.039130</td>\n      <td>0.026761</td>\n      <td>0.042308</td>\n      <td>0.150000</td>\n      <td>0.033333</td>\n      <td>0.092857</td>\n      <td>0.1</td>\n      <td>0.002857</td>\n      <td>0.050000</td>\n      <td>...</td>\n      <td>1.0</td>\n      <td>1.0</td>\n      <td>1.0</td>\n      <td>1.0</td>\n      <td>1.0</td>\n      <td>0.1</td>\n      <td>0.009091</td>\n      <td>0.1</td>\n      <td>0.1</td>\n      <td>0.1</td>\n    </tr>\n    <tr>\n      <th>64162</th>\n      <td>0.029670</td>\n      <td>1.000000</td>\n      <td>0.016197</td>\n      <td>0.042308</td>\n      <td>0.054167</td>\n      <td>0.008333</td>\n      <td>0.092857</td>\n      <td>0.1</td>\n      <td>0.002857</td>\n      <td>0.017857</td>\n      <td>...</td>\n      <td>1.0</td>\n      <td>1.0</td>\n      <td>1.0</td>\n      <td>1.0</td>\n      <td>1.0</td>\n      <td>0.1</td>\n      <td>0.090909</td>\n      <td>1.0</td>\n      <td>1.0</td>\n      <td>1.0</td>\n    </tr>\n    <tr>\n      <th>16162S</th>\n      <td>0.041758</td>\n      <td>0.033333</td>\n      <td>1.000000</td>\n      <td>0.038462</td>\n      <td>0.045833</td>\n      <td>0.025000</td>\n      <td>0.078571</td>\n      <td>0.1</td>\n      <td>0.002857</td>\n      <td>0.010714</td>\n      <td>...</td>\n      <td>1.0</td>\n      <td>1.0</td>\n      <td>1.0</td>\n      <td>1.0</td>\n      <td>1.0</td>\n      <td>0.1</td>\n      <td>0.009091</td>\n      <td>0.1</td>\n      <td>0.1</td>\n      <td>0.1</td>\n    </tr>\n    <tr>\n      <th>12162CB</th>\n      <td>0.012088</td>\n      <td>0.015942</td>\n      <td>0.007042</td>\n      <td>1.000000</td>\n      <td>0.045833</td>\n      <td>0.008333</td>\n      <td>0.007143</td>\n      <td>0.1</td>\n      <td>0.028571</td>\n      <td>0.007143</td>\n      <td>...</td>\n      <td>0.0</td>\n      <td>0.0</td>\n      <td>0.0</td>\n      <td>0.0</td>\n      <td>0.0</td>\n      <td>0.0</td>\n      <td>0.000000</td>\n      <td>0.0</td>\n      <td>0.0</td>\n      <td>0.0</td>\n    </tr>\n    <tr>\n      <th>5005-7</th>\n      <td>0.039560</td>\n      <td>0.018841</td>\n      <td>0.007746</td>\n      <td>0.042308</td>\n      <td>1.000000</td>\n      <td>0.008333</td>\n      <td>0.007143</td>\n      <td>0.1</td>\n      <td>0.002857</td>\n      <td>0.103571</td>\n      <td>...</td>\n      <td>0.0</td>\n      <td>0.0</td>\n      <td>0.0</td>\n      <td>0.0</td>\n      <td>0.0</td>\n      <td>0.0</td>\n      <td>0.000000</td>\n      <td>0.0</td>\n      <td>0.0</td>\n      <td>0.0</td>\n    </tr>\n    <tr>\n      <th>...</th>\n      <td>...</td>\n      <td>...</td>\n      <td>...</td>\n      <td>...</td>\n      <td>...</td>\n      <td>...</td>\n      <td>...</td>\n      <td>...</td>\n      <td>...</td>\n      <td>...</td>\n      <td>...</td>\n      <td>...</td>\n      <td>...</td>\n      <td>...</td>\n      <td>...</td>\n      <td>...</td>\n      <td>...</td>\n      <td>...</td>\n      <td>...</td>\n      <td>...</td>\n      <td>...</td>\n    </tr>\n    <tr>\n      <th>336XXL</th>\n      <td>0.001099</td>\n      <td>0.001449</td>\n      <td>0.000704</td>\n      <td>0.000000</td>\n      <td>0.000000</td>\n      <td>0.000000</td>\n      <td>0.007143</td>\n      <td>0.0</td>\n      <td>0.000000</td>\n      <td>0.000000</td>\n      <td>...</td>\n      <td>0.1</td>\n      <td>0.1</td>\n      <td>0.1</td>\n      <td>0.1</td>\n      <td>0.1</td>\n      <td>1.0</td>\n      <td>0.009091</td>\n      <td>0.1</td>\n      <td>0.1</td>\n      <td>0.1</td>\n    </tr>\n    <tr>\n      <th>51005</th>\n      <td>0.001099</td>\n      <td>0.014493</td>\n      <td>0.000704</td>\n      <td>0.000000</td>\n      <td>0.000000</td>\n      <td>0.000000</td>\n      <td>0.007143</td>\n      <td>0.0</td>\n      <td>0.000000</td>\n      <td>0.000000</td>\n      <td>...</td>\n      <td>0.1</td>\n      <td>0.1</td>\n      <td>0.1</td>\n      <td>0.1</td>\n      <td>0.1</td>\n      <td>0.1</td>\n      <td>1.000000</td>\n      <td>1.0</td>\n      <td>1.0</td>\n      <td>1.0</td>\n    </tr>\n    <tr>\n      <th>63026</th>\n      <td>0.001099</td>\n      <td>0.014493</td>\n      <td>0.000704</td>\n      <td>0.000000</td>\n      <td>0.000000</td>\n      <td>0.000000</td>\n      <td>0.007143</td>\n      <td>0.0</td>\n      <td>0.000000</td>\n      <td>0.000000</td>\n      <td>...</td>\n      <td>0.1</td>\n      <td>0.1</td>\n      <td>0.1</td>\n      <td>0.1</td>\n      <td>0.1</td>\n      <td>0.1</td>\n      <td>0.090909</td>\n      <td>1.0</td>\n      <td>1.0</td>\n      <td>1.0</td>\n    </tr>\n    <tr>\n      <th>88038</th>\n      <td>0.001099</td>\n      <td>0.014493</td>\n      <td>0.000704</td>\n      <td>0.000000</td>\n      <td>0.000000</td>\n      <td>0.000000</td>\n      <td>0.007143</td>\n      <td>0.0</td>\n      <td>0.000000</td>\n      <td>0.000000</td>\n      <td>...</td>\n      <td>0.1</td>\n      <td>0.1</td>\n      <td>0.1</td>\n      <td>0.1</td>\n      <td>0.1</td>\n      <td>0.1</td>\n      <td>0.090909</td>\n      <td>1.0</td>\n      <td>1.0</td>\n      <td>1.0</td>\n    </tr>\n    <tr>\n      <th>88045</th>\n      <td>0.001099</td>\n      <td>0.014493</td>\n      <td>0.000704</td>\n      <td>0.000000</td>\n      <td>0.000000</td>\n      <td>0.000000</td>\n      <td>0.007143</td>\n      <td>0.0</td>\n      <td>0.000000</td>\n      <td>0.000000</td>\n      <td>...</td>\n      <td>0.1</td>\n      <td>0.1</td>\n      <td>0.1</td>\n      <td>0.1</td>\n      <td>0.1</td>\n      <td>0.1</td>\n      <td>0.090909</td>\n      <td>1.0</td>\n      <td>1.0</td>\n      <td>1.0</td>\n    </tr>\n  </tbody>\n</table>\n<p>550 rows × 550 columns</p>\n</div>"
     },
     "execution_count": 121,
     "metadata": {},
     "output_type": "execute_result"
    }
   ],
   "source": [
    "def interpolate(df1, df2, lam=0.9):\n",
    "    return df1 * lam + df2 * (1 - lam)\n",
    "df_merged = interpolate(scaled_matrix, scaled_matrix_date)\n",
    "df_merged"
   ],
   "metadata": {
    "collapsed": false
   }
  },
  {
   "cell_type": "code",
   "execution_count": null,
   "outputs": [],
   "source": [
    "df_merged.to_csv(\"../data/Q2combined.csv\")"
   ],
   "metadata": {
    "collapsed": false
   }
  },
  {
   "cell_type": "code",
   "execution_count": 68,
   "outputs": [
    {
     "data": {
      "text/plain": "(array([425, 505], dtype=int64),)"
     },
     "execution_count": 68,
     "metadata": {},
     "output_type": "execute_result"
    }
   ],
   "source": [
    "np.where(df_merged.sum(axis=1) < 1.17)"
   ],
   "metadata": {
    "collapsed": false
   }
  },
  {
   "cell_type": "code",
   "execution_count": null,
   "outputs": [],
   "source": [
    "scaled_matrix_full = pd.read_csv(\"../data/common_prod_per_order_norm.csv\")"
   ],
   "metadata": {
    "collapsed": false
   }
  },
  {
   "cell_type": "code",
   "execution_count": null,
   "outputs": [],
   "source": [
    "co_occurrence_matrix_date_full = pd.read_csv(\"../data/common_prod_per_date.csv\")"
   ],
   "metadata": {
    "collapsed": false
   }
  },
  {
   "cell_type": "code",
   "execution_count": 4,
   "metadata": {
    "collapsed": true
   },
   "outputs": [
    {
     "data": {
      "text/plain": "           collect         prod  daily_total_weight  daily_total_packages  \\\n0       2018-01-01      10162CA              430.18                    19   \n1       2018-01-01       10451S              489.18                    19   \n2       2018-01-01   11162CGVM3               73.74                     3   \n3       2018-01-01   11162GVCA4                4.00                     1   \n4       2018-01-01  11162GVFCA3                3.95                     1   \n...            ...          ...                 ...                   ...   \n121968  2022-12-10     974150CR              132.56                     5   \n121969  2022-12-10   974150TVCR               98.48                     7   \n121970  2022-12-10    994150CR5             1987.46                    78   \n121971  2022-12-10     994150S5              169.02                     7   \n121972  2022-12-10      HLO451S            22959.58                  1150   \n\n        daily_total_orders  \n0                        2  \n1                        3  \n2                        3  \n3                        1  \n4                        1  \n...                    ...  \n121968                   1  \n121969                   2  \n121970                   6  \n121971                   3  \n121972                   2  \n\n[121973 rows x 5 columns]",
      "text/html": "<div>\n<style scoped>\n    .dataframe tbody tr th:only-of-type {\n        vertical-align: middle;\n    }\n\n    .dataframe tbody tr th {\n        vertical-align: top;\n    }\n\n    .dataframe thead th {\n        text-align: right;\n    }\n</style>\n<table border=\"1\" class=\"dataframe\">\n  <thead>\n    <tr style=\"text-align: right;\">\n      <th></th>\n      <th>collect</th>\n      <th>prod</th>\n      <th>daily_total_weight</th>\n      <th>daily_total_packages</th>\n      <th>daily_total_orders</th>\n    </tr>\n  </thead>\n  <tbody>\n    <tr>\n      <th>0</th>\n      <td>2018-01-01</td>\n      <td>10162CA</td>\n      <td>430.18</td>\n      <td>19</td>\n      <td>2</td>\n    </tr>\n    <tr>\n      <th>1</th>\n      <td>2018-01-01</td>\n      <td>10451S</td>\n      <td>489.18</td>\n      <td>19</td>\n      <td>3</td>\n    </tr>\n    <tr>\n      <th>2</th>\n      <td>2018-01-01</td>\n      <td>11162CGVM3</td>\n      <td>73.74</td>\n      <td>3</td>\n      <td>3</td>\n    </tr>\n    <tr>\n      <th>3</th>\n      <td>2018-01-01</td>\n      <td>11162GVCA4</td>\n      <td>4.00</td>\n      <td>1</td>\n      <td>1</td>\n    </tr>\n    <tr>\n      <th>4</th>\n      <td>2018-01-01</td>\n      <td>11162GVFCA3</td>\n      <td>3.95</td>\n      <td>1</td>\n      <td>1</td>\n    </tr>\n    <tr>\n      <th>...</th>\n      <td>...</td>\n      <td>...</td>\n      <td>...</td>\n      <td>...</td>\n      <td>...</td>\n    </tr>\n    <tr>\n      <th>121968</th>\n      <td>2022-12-10</td>\n      <td>974150CR</td>\n      <td>132.56</td>\n      <td>5</td>\n      <td>1</td>\n    </tr>\n    <tr>\n      <th>121969</th>\n      <td>2022-12-10</td>\n      <td>974150TVCR</td>\n      <td>98.48</td>\n      <td>7</td>\n      <td>2</td>\n    </tr>\n    <tr>\n      <th>121970</th>\n      <td>2022-12-10</td>\n      <td>994150CR5</td>\n      <td>1987.46</td>\n      <td>78</td>\n      <td>6</td>\n    </tr>\n    <tr>\n      <th>121971</th>\n      <td>2022-12-10</td>\n      <td>994150S5</td>\n      <td>169.02</td>\n      <td>7</td>\n      <td>3</td>\n    </tr>\n    <tr>\n      <th>121972</th>\n      <td>2022-12-10</td>\n      <td>HLO451S</td>\n      <td>22959.58</td>\n      <td>1150</td>\n      <td>2</td>\n    </tr>\n  </tbody>\n</table>\n<p>121973 rows × 5 columns</p>\n</div>"
     },
     "execution_count": 4,
     "metadata": {},
     "output_type": "execute_result"
    }
   ],
   "source": [
    "\n",
    "daily_product_stats = df_small.groupby(['collect', 'prod']).agg(\n",
    "    daily_total_weight=('weight', 'sum'),\n",
    "    daily_total_packages=('pacs', 'sum'),\n",
    "    daily_total_orders=('order', 'nunique')\n",
    ").reset_index()\n",
    "daily_product_stats"
   ]
  },
  {
   "cell_type": "code",
   "execution_count": 5,
   "outputs": [],
   "source": [
    "overall_product_stats = daily_product_stats.groupby('prod').agg(\n",
    "    avg_daily_weight=('daily_total_weight', 'mean'),\n",
    "    avg_daily_packages=('daily_total_packages', 'mean'),\n",
    "    avg_daily_orders=('daily_total_orders', 'mean')\n",
    ")"
   ],
   "metadata": {
    "collapsed": false
   }
  },
  {
   "cell_type": "code",
   "execution_count": 6,
   "outputs": [],
   "source": [
    "cv_product_stats = daily_product_stats.groupby('prod').agg(\n",
    "    cv_daily_weight=('daily_total_weight', lambda x: x.std() / x.mean()),\n",
    "    cv_daily_packages=('daily_total_packages', lambda x: x.std() / x.mean()),\n",
    "    cv_daily_orders=('daily_total_orders', lambda x: x.std() / x.mean())\n",
    ")"
   ],
   "metadata": {
    "collapsed": false
   }
  },
  {
   "cell_type": "code",
   "execution_count": 7,
   "outputs": [],
   "source": [
    "combined_data = overall_product_stats.merge(cv_product_stats, left_index=True, right_index=True)"
   ],
   "metadata": {
    "collapsed": false
   }
  },
  {
   "cell_type": "code",
   "execution_count": 8,
   "outputs": [
    {
     "data": {
      "text/plain": "            avg_daily_weight  avg_daily_packages  avg_daily_orders  \\\nprod                                                                 \n10021CRZ          564.126667           25.333333          1.000000   \n1002CR           1293.145800           55.540000          1.340000   \n1002CRHLRR       2536.900000          114.333333          1.000000   \n1002S            3144.304000          138.600000          1.000000   \n1003C             976.871429           43.285714          1.428571   \n...                      ...                 ...               ...   \nHLO451C          4335.147333          194.200000          1.000000   \nHLO451CR         9157.136744          430.139535          1.000000   \nHLO451S         10097.629779          478.448529          1.036765   \nHLR2082C         3596.695000          157.000000          1.000000   \nHLR2082S         1976.445000           85.000000          1.500000   \n\n            cv_daily_weight  cv_daily_packages  cv_daily_orders  \nprod                                                             \n10021CRZ           0.982732           0.982464         0.000000  \n1002CR             0.913089           0.913183         0.415915  \n1002CRHLRR         1.415235           1.408308         0.000000  \n1002S              0.608244           0.606867         0.000000  \n1003C              1.494216           1.477671         0.359487  \n...                     ...                ...              ...  \nHLO451C            0.676470           0.678357         0.000000  \nHLO451CR           0.573522           0.561331         0.000000  \nHLO451S            0.689522           0.693826         0.216732  \nHLR2082C           1.396539           1.396198         0.000000  \nHLR2082S           0.378807           0.349394         0.471405  \n\n[1605 rows x 6 columns]",
      "text/html": "<div>\n<style scoped>\n    .dataframe tbody tr th:only-of-type {\n        vertical-align: middle;\n    }\n\n    .dataframe tbody tr th {\n        vertical-align: top;\n    }\n\n    .dataframe thead th {\n        text-align: right;\n    }\n</style>\n<table border=\"1\" class=\"dataframe\">\n  <thead>\n    <tr style=\"text-align: right;\">\n      <th></th>\n      <th>avg_daily_weight</th>\n      <th>avg_daily_packages</th>\n      <th>avg_daily_orders</th>\n      <th>cv_daily_weight</th>\n      <th>cv_daily_packages</th>\n      <th>cv_daily_orders</th>\n    </tr>\n    <tr>\n      <th>prod</th>\n      <th></th>\n      <th></th>\n      <th></th>\n      <th></th>\n      <th></th>\n      <th></th>\n    </tr>\n  </thead>\n  <tbody>\n    <tr>\n      <th>10021CRZ</th>\n      <td>564.126667</td>\n      <td>25.333333</td>\n      <td>1.000000</td>\n      <td>0.982732</td>\n      <td>0.982464</td>\n      <td>0.000000</td>\n    </tr>\n    <tr>\n      <th>1002CR</th>\n      <td>1293.145800</td>\n      <td>55.540000</td>\n      <td>1.340000</td>\n      <td>0.913089</td>\n      <td>0.913183</td>\n      <td>0.415915</td>\n    </tr>\n    <tr>\n      <th>1002CRHLRR</th>\n      <td>2536.900000</td>\n      <td>114.333333</td>\n      <td>1.000000</td>\n      <td>1.415235</td>\n      <td>1.408308</td>\n      <td>0.000000</td>\n    </tr>\n    <tr>\n      <th>1002S</th>\n      <td>3144.304000</td>\n      <td>138.600000</td>\n      <td>1.000000</td>\n      <td>0.608244</td>\n      <td>0.606867</td>\n      <td>0.000000</td>\n    </tr>\n    <tr>\n      <th>1003C</th>\n      <td>976.871429</td>\n      <td>43.285714</td>\n      <td>1.428571</td>\n      <td>1.494216</td>\n      <td>1.477671</td>\n      <td>0.359487</td>\n    </tr>\n    <tr>\n      <th>...</th>\n      <td>...</td>\n      <td>...</td>\n      <td>...</td>\n      <td>...</td>\n      <td>...</td>\n      <td>...</td>\n    </tr>\n    <tr>\n      <th>HLO451C</th>\n      <td>4335.147333</td>\n      <td>194.200000</td>\n      <td>1.000000</td>\n      <td>0.676470</td>\n      <td>0.678357</td>\n      <td>0.000000</td>\n    </tr>\n    <tr>\n      <th>HLO451CR</th>\n      <td>9157.136744</td>\n      <td>430.139535</td>\n      <td>1.000000</td>\n      <td>0.573522</td>\n      <td>0.561331</td>\n      <td>0.000000</td>\n    </tr>\n    <tr>\n      <th>HLO451S</th>\n      <td>10097.629779</td>\n      <td>478.448529</td>\n      <td>1.036765</td>\n      <td>0.689522</td>\n      <td>0.693826</td>\n      <td>0.216732</td>\n    </tr>\n    <tr>\n      <th>HLR2082C</th>\n      <td>3596.695000</td>\n      <td>157.000000</td>\n      <td>1.000000</td>\n      <td>1.396539</td>\n      <td>1.396198</td>\n      <td>0.000000</td>\n    </tr>\n    <tr>\n      <th>HLR2082S</th>\n      <td>1976.445000</td>\n      <td>85.000000</td>\n      <td>1.500000</td>\n      <td>0.378807</td>\n      <td>0.349394</td>\n      <td>0.471405</td>\n    </tr>\n  </tbody>\n</table>\n<p>1605 rows × 6 columns</p>\n</div>"
     },
     "execution_count": 8,
     "metadata": {},
     "output_type": "execute_result"
    }
   ],
   "source": [
    "combined_data"
   ],
   "metadata": {
    "collapsed": false
   }
  },
  {
   "cell_type": "code",
   "execution_count": 17,
   "outputs": [
    {
     "data": {
      "text/plain": "order          0\ncostum         4\ncollect        0\nprod           0\nbarcode    27239\nweight         0\npacs           0\ndtype: int64"
     },
     "execution_count": 17,
     "metadata": {},
     "output_type": "execute_result"
    }
   ],
   "source": [
    "pd.isna(df_small).sum()"
   ],
   "metadata": {
    "collapsed": false
   }
  },
  {
   "cell_type": "code",
   "execution_count": null,
   "outputs": [],
   "source": [],
   "metadata": {
    "collapsed": false
   }
  }
 ],
 "metadata": {
  "kernelspec": {
   "display_name": "Python 3",
   "language": "python",
   "name": "python3"
  },
  "language_info": {
   "codemirror_mode": {
    "name": "ipython",
    "version": 2
   },
   "file_extension": ".py",
   "mimetype": "text/x-python",
   "name": "python",
   "nbconvert_exporter": "python",
   "pygments_lexer": "ipython2",
   "version": "2.7.6"
  }
 },
 "nbformat": 4,
 "nbformat_minor": 0
}
